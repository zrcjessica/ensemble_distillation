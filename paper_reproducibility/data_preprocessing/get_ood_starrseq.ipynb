{
 "cells": [
  {
   "cell_type": "markdown",
   "metadata": {},
   "source": [
    "Use EvoAug to generate OOD mutated sequences given a reference sequence (DeepSTARR).\n",
    "\n",
    "Mutations:\n",
    "- random shuffle: apply `tf.random.shuffle(seqs)` to seqs\n",
    "- mutagenesis: apply `RandomMutation(mutate_frac=0.25)` to seqs\n",
    "- evoaug: apply list of augmentations with `max_augs_per_seq=2` to seqs\n",
    "\n",
    "For each reference sequence from the DeepSTARR test set, we will generate 5 OOD sequences.\n",
    "\n",
    "OOD sequences will be saved as (5,N,L,4) numpy arrays in an h5 file, where N is the number of DeepSTARR test seqs and L is 249 (DeepSTARR input sequence length). "
   ]
  },
  {
   "cell_type": "code",
   "execution_count": 9,
   "metadata": {},
   "outputs": [],
   "source": [
    "import tensorflow as tf\n",
    "# import tensorflow.keras as keras\n",
    "import evoaug_tf\n",
    "from evoaug_tf import evoaug, augment \n",
    "import keras\n",
    "from keras.models import load_model\n",
    "import numpy as np\n",
    "import sys\n",
    "import yaml\n",
    "import h5py\n",
    "import gc \n",
    "sys.path.append('../code')\n",
    "from utils import load_DeepSTARR_data\n",
    "from model_zoo import DeepSTARR\n",
    "import os\n",
    "import matplotlib.pyplot as plt\n",
    "import seaborn as sns\n",
    "import pickle\n",
    "os.environ['CUDA_VISIBLE_DEVICES'] = '3'"
   ]
  },
  {
   "cell_type": "code",
   "execution_count": 10,
   "metadata": {},
   "outputs": [],
   "source": [
    "# # set seeds\n",
    "# tf.random.set_seed(1)\n",
    "# np.random.seed(1)"
   ]
  },
  {
   "cell_type": "markdown",
   "metadata": {},
   "source": [
    "# Functions"
   ]
  },
  {
   "cell_type": "code",
   "execution_count": 11,
   "metadata": {},
   "outputs": [],
   "source": [
    "@tf.function\n",
    "def apply_augment(x, augment_list, hard_aug=True, max_augs_per_seq=2):\n",
    "\n",
    "    if len(x.shape)==2:\n",
    "        x = tf.reshape(x, (1, x.shape[0], x.shape[1]))\n",
    "    \"\"\"Apply augmentations to each sequence in batch, x.\"\"\"\n",
    "    # number of augmentations per sequence\n",
    "    if hard_aug:\n",
    "        batch_num_aug = tf.constant(max_augs_per_seq, dtype=tf.int32)\n",
    "    else:\n",
    "        batch_num_aug = tf.random.uniform(shape=[], minval=1, maxval=max_augs_per_seq+1, dtype=tf.int32)\n",
    "\n",
    "    max_num_aug = len(augment_list)\n",
    "    insert_max = _augment_max_len(augment_list)\n",
    "\n",
    "    # randomly choose which subset of augmentations from augment_list\n",
    "    aug_indices = tf.sort(tf.random.shuffle(tf.range(max_num_aug))[:batch_num_aug])\n",
    "    # apply augmentation combination to sequences\n",
    "    insert_status = True\n",
    "    ind = 0\n",
    "    for augment in augment_list:\n",
    "        augment_condition = tf.reduce_any(tf.equal(tf.constant(ind), aug_indices))\n",
    "        x = tf.cond(augment_condition, lambda: augment(x), lambda: x)\n",
    "        if augment_condition and hasattr(augment, 'insert_max'):\n",
    "            insert_status = False\n",
    "        ind += 1\n",
    "    if insert_status:\n",
    "        if insert_max:\n",
    "            x = _pad_end(x, insert_max)\n",
    "    return x\n",
    "\n",
    "@tf.function\n",
    "def _pad_end(x, insert_max):\n",
    "        \"\"\"Add random DNA padding of length insert_max to the end of each sequence in batch.\"\"\"\n",
    "\n",
    "        N = tf.shape(x)[0]\n",
    "        L = tf.shape(x)[1]\n",
    "        A = tf.cast(tf.shape(x)[2], dtype = tf.float32)\n",
    "        p = tf.ones((A,)) / A\n",
    "        padding = tf.transpose(tf.gather(tf.eye(A), tf.random.categorical(tf.math.log([p] * insert_max), N)), perm=[1,0,2])\n",
    "\n",
    "        half = int(insert_max/2)\n",
    "        x_padded = tf.concat([padding[:,:half,:], x, padding[:,half:,:]], axis=1)\n",
    "        return x_padded\n",
    "    \n",
    "def _augment_max_len(augment_list):\n",
    "    \"\"\"\n",
    "    Determine whether insertions are applied to determine the insert_max,\n",
    "    which will be applied to pad other sequences with random DNA.\n",
    "    Parameters\n",
    "    ----------\n",
    "    augment_list : list\n",
    "        List of augmentations.\n",
    "    Returns\n",
    "    -------\n",
    "    int\n",
    "        Value for insert max.\n",
    "    \"\"\"\n",
    "    insert_max = 0\n",
    "    for augment in augment_list:\n",
    "        if hasattr(augment, 'insert_max'):\n",
    "            insert_max = augment.insert_max\n",
    "    return insert_max\n",
    "\n",
    "def shuffle_channels(tensor):\n",
    "    # Get the shape of the input tensor\n",
    "    N, L, C = tf.shape(tensor)[0], tf.shape(tensor)[1], tf.shape(tensor)[2]\n",
    "    \n",
    "    # Create indices for shuffling\n",
    "    indices = tf.range(C)\n",
    "    \n",
    "    # Tile and reshape indices to match the shape of the input tensor\n",
    "    tiled_indices = tf.tile(tf.expand_dims(indices, 0), [N * L, 1])\n",
    "    \n",
    "    # Shuffle the tiled indices\n",
    "    shuffled_indices = tf.random.shuffle(tiled_indices)\n",
    "    \n",
    "    # Reshape the shuffled indices to match the input tensor shape\n",
    "    shuffled_indices = tf.reshape(shuffled_indices, [N, L, C])\n",
    "    \n",
    "    # Use tf.gather with the shuffled indices to reorder the channel axis\n",
    "    shuffled_tensor = tf.gather(tensor, shuffled_indices, batch_dims=2)\n",
    "    \n",
    "    return shuffled_tensor\n",
    "\n",
    "class RandomShuffle(augment.AugmentBase):\n",
    "    def __init__(self):\n",
    "        pass\n",
    "\n",
    "    def __call__(self, x):\n",
    "        N = tf.shape(x)[0]\n",
    "        x_mut = tf.TensorArray(dtype=x.dtype, size=N, element_shape=x[0].shape)\n",
    "        body = lambda i, x_mut: (i + 1, x_mut.write(i, tf.random.shuffle(x[i])))\n",
    "        cond = lambda i, x_mut: i < N\n",
    "        _, x_mut = tf.while_loop(cond, body, [0, x_mut])\n",
    "        return x_mut.stack()"
   ]
  },
  {
   "cell_type": "markdown",
   "metadata": {},
   "source": [
    "# Load data"
   ]
  },
  {
   "cell_type": "code",
   "execution_count": 12,
   "metadata": {},
   "outputs": [
    {
     "name": "stdout",
     "output_type": "stream",
     "text": [
      "loading data from h5 file with hierarchical structure\n"
     ]
    }
   ],
   "source": [
    "data = '../data/DeepSTARR_ensemble_NEW/all_data_with_ensemble_metrics_hierarchical.h5'\n",
    "X_train, y_train, X_test, y_test, X_val, y_val = load_DeepSTARR_data(data, std=True)"
   ]
  },
  {
   "cell_type": "code",
   "execution_count": 5,
   "metadata": {},
   "outputs": [
    {
     "name": "stderr",
     "output_type": "stream",
     "text": [
      "2024-09-17 12:13:22.962258: I tensorflow/core/platform/cpu_feature_guard.cc:193] This TensorFlow binary is optimized with oneAPI Deep Neural Network Library (oneDNN) to use the following CPU instructions in performance-critical operations:  AVX2 FMA\n",
      "To enable them in other operations, rebuild TensorFlow with the appropriate compiler flags.\n",
      "2024-09-17 12:13:23.465207: I tensorflow/core/common_runtime/gpu/gpu_device.cc:1613] Created device /job:localhost/replica:0/task:0/device:GPU:0 with 14233 MB memory:  -> device: 0, name: NVIDIA RTX A4000, pci bus id: 0000:41:00.0, compute capability: 8.6\n"
     ]
    }
   ],
   "source": [
    "# cast as tensor \n",
    "X_test_tf = tf.cast(X_test, tf.float32)"
   ]
  },
  {
   "cell_type": "markdown",
   "metadata": {},
   "source": [
    "# Apply random shuffle (large shift)"
   ]
  },
  {
   "cell_type": "code",
   "execution_count": 6,
   "metadata": {},
   "outputs": [
    {
     "name": "stdout",
     "output_type": "stream",
     "text": [
      "WARNING:tensorflow:From /home/jessica/anaconda3/envs/tf2/lib/python3.9/site-packages/tensorflow/python/autograph/pyct/static_analysis/liveness.py:83: Analyzer.lamba_check (from tensorflow.python.autograph.pyct.static_analysis.liveness) is deprecated and will be removed after 2023-09-23.\n",
      "Instructions for updating:\n",
      "Lambda fuctions will be no more assumed to be used in the statement where they are used, or at least in the same block. https://github.com/tensorflow/tensorflow/issues/56089\n"
     ]
    },
    {
     "name": "stderr",
     "output_type": "stream",
     "text": [
      "2024-09-17 12:13:24.526715: W tensorflow/core/grappler/optimizers/loop_optimizer.cc:907] Skipping loop optimization for Merge node with control input: cond/branch_executed/_7\n",
      "2024-09-17 12:13:28.526067: W tensorflow/core/grappler/optimizers/loop_optimizer.cc:907] Skipping loop optimization for Merge node with control input: cond/branch_executed/_7\n"
     ]
    }
   ],
   "source": [
    "augment_list = [RandomShuffle()]\n",
    "configfile = '../results/DeepSTARR_ensemble_NEW/config.yaml'\n",
    "config  = yaml.safe_load(open(configfile, 'r'))\n",
    "model = evoaug.RobustModel(DeepSTARR, config=config, input_shape=X_test[0].shape, augment_list=augment_list, max_augs_per_seq=1, hard_aug=True)\n",
    "model.compile(keras.optimizers.Adam(learning_rate=0.001), loss='mse') \n",
    "\n",
    "# Create a dataset\n",
    "dataset = tf.data.Dataset.from_tensor_slices(X_test_tf)\n",
    "\n",
    "# Batch the dataset\n",
    "batch_size = 1024\n",
    "batched_dataset = dataset.batch(batch_size)\n",
    "\n",
    "# # Iterate over batches\n",
    "# X_test_random_list = []\n",
    "# for i in range(5):\n",
    "#     x_mut_list = []\n",
    "#     for batch in batched_dataset:\n",
    "#         x_mut = model._apply_augment(batch)\n",
    "#         x_mut_list.append(x_mut)\n",
    "#     X_test_random_list.append(tf.concat(x_mut_list, axis=0))\n",
    "\n",
    "# X_test_random = tf.stack(X_test_random_list).numpy()\n",
    "\n",
    "# Iterate over batches\n",
    "x_mut_list = []\n",
    "for batch in batched_dataset:\n",
    "    x_mut = model._apply_augment(batch)\n",
    "    x_mut_list.append(x_mut)\n",
    "\n",
    "# X_test_random = tf.stack(x_mut_list).numpy()"
   ]
  },
  {
   "cell_type": "code",
   "execution_count": 7,
   "metadata": {},
   "outputs": [],
   "source": [
    "X_test_random = tf.concat(x_mut_list, axis=0)"
   ]
  },
  {
   "cell_type": "markdown",
   "metadata": {},
   "source": [
    "# Apply mutagenesis (small shift)\n",
    "\n",
    "`mutate_frac=0.05`"
   ]
  },
  {
   "cell_type": "code",
   "execution_count": 8,
   "metadata": {},
   "outputs": [],
   "source": [
    "mutagenesis = augment.RandomMutation(mutate_frac=0.05)"
   ]
  },
  {
   "cell_type": "code",
   "execution_count": 9,
   "metadata": {},
   "outputs": [],
   "source": [
    "# X_test_mutagenesis = np.stack([mutagenesis(X_test_tf).numpy() for _ in range(5)])\n",
    "X_test_mutagenesis = mutagenesis(X_test_tf).numpy()"
   ]
  },
  {
   "cell_type": "code",
   "execution_count": 10,
   "metadata": {},
   "outputs": [
    {
     "data": {
      "text/plain": [
       "(41186, 249, 4)"
      ]
     },
     "execution_count": 10,
     "metadata": {},
     "output_type": "execute_result"
    }
   ],
   "source": [
    "X_test_mutagenesis.shape"
   ]
  },
  {
   "cell_type": "markdown",
   "metadata": {},
   "source": [
    "# Apply EvoAug (moderate shift)\n",
    "\n",
    "Arguments:\n",
    "- `hard_aug=True`\n",
    "- `max_augs_per_seq=2`"
   ]
  },
  {
   "cell_type": "code",
   "execution_count": 11,
   "metadata": {},
   "outputs": [],
   "source": [
    "# # NEW list\n",
    "# augment_list = [\n",
    "#     # augment.RandomRC(rc_prob=0.5),\n",
    "#     augment.RandomDeletion(delete_min=0, delete_max=30),\n",
    "#     augment.RandomTranslocation(shift_min=0, shift_max=20),\n",
    "#     augment.RandomNoise(noise_mean=0, noise_std=0.3),\n",
    "#     augment.RandomMutation(mutate_frac=0.05)\n",
    "# ]\n",
    "\n",
    "# original list\n",
    "augment_list = [\n",
    "    augment.RandomDeletion(delete_min=0, delete_max=20),\n",
    "    augment.RandomTranslocation(shift_min=0, shift_max=20),\n",
    "    augment.RandomNoise(noise_mean=0, noise_std=0.2),\n",
    "    augment.RandomMutation(mutate_frac=0.05)\n",
    "]\n",
    "\n",
    "\n",
    "# X_test_evoaug = np.stack([tf.map_fn(lambda x: apply_augment(x, augment_list), X_test_tf).numpy()[:,0,:,:] for _ in range(5)])"
   ]
  },
  {
   "cell_type": "code",
   "execution_count": 12,
   "metadata": {},
   "outputs": [],
   "source": [
    "configfile = '../results/DeepSTARR_ensemble_NEW/config.yaml'\n",
    "config  = yaml.safe_load(open(configfile, 'r'))\n",
    "model = evoaug.RobustModel(DeepSTARR, config=config, input_shape=X_test[0].shape, augment_list=augment_list, max_augs_per_seq=2, hard_aug=True)\n",
    "model.compile(keras.optimizers.Adam(learning_rate=0.001), loss='mse') \n",
    "\n",
    "# Create a dataset\n",
    "dataset = tf.data.Dataset.from_tensor_slices(X_test_tf)\n",
    "\n",
    "# Batch the dataset\n",
    "batch_size = 1024\n",
    "batched_dataset = dataset.batch(batch_size)\n",
    "\n"
   ]
  },
  {
   "cell_type": "code",
   "execution_count": 13,
   "metadata": {},
   "outputs": [],
   "source": [
    "# # Iterate over batches\n",
    "# X_test_evoaug_list = []\n",
    "# for i in range(5):\n",
    "#     x_mut_list = []\n",
    "#     for batch in batched_dataset:\n",
    "#         x_mut = model._apply_augment(batch)\n",
    "#         x_mut_list.append(x_mut)\n",
    "#     X_test_evoaug_list.append(tf.concat(x_mut_list, axis=0))\n",
    "\n",
    "# X_test_evoaug = tf.stack(X_test_evoaug_list).numpy()\n",
    "\n",
    "# Iterate over batches\n",
    "\n",
    "x_mut_list = []\n",
    "for batch in batched_dataset:\n",
    "    x_mut = model._apply_augment(batch)\n",
    "    x_mut_list.append(x_mut)\n",
    "\n",
    "X_test_evoaug = tf.concat(x_mut_list, axis=0)"
   ]
  },
  {
   "cell_type": "code",
   "execution_count": 14,
   "metadata": {},
   "outputs": [
    {
     "data": {
      "text/plain": [
       "TensorShape([41186, 249, 4])"
      ]
     },
     "execution_count": 14,
     "metadata": {},
     "output_type": "execute_result"
    }
   ],
   "source": [
    "X_test_evoaug.shape"
   ]
  },
  {
   "cell_type": "markdown",
   "metadata": {},
   "source": [
    "# Save data to h5"
   ]
  },
  {
   "cell_type": "code",
   "execution_count": 23,
   "metadata": {},
   "outputs": [],
   "source": [
    "hf = h5py.File('../data/DeepSTARR/ood_seqs_NEW.h5', 'w')\n",
    "\n",
    "hf.create_dataset('random', data=X_test_random)\n",
    "hf.create_dataset('mutagenesis', data=X_test_mutagenesis)\n",
    "hf.create_dataset('evoaug', data=X_test_evoaug)\n",
    "\n",
    "hf.close()\n"
   ]
  },
  {
   "cell_type": "markdown",
   "metadata": {},
   "source": [
    "# Load seqs from h5"
   ]
  },
  {
   "cell_type": "code",
   "execution_count": 13,
   "metadata": {},
   "outputs": [],
   "source": [
    "ood_seqs_file = '../data/DeepSTARR/ood_seqs_NEW.h5'\n",
    "data = h5py.File(ood_seqs_file, 'r')\n",
    "\n",
    "X_test_random = np.array(data['random'])\n",
    "X_test_mutagenesis = np.array(data['mutagenesis'])\n",
    "X_test_evoaug = np.array(data['evoaug'])\n",
    "data.close()\n"
   ]
  },
  {
   "cell_type": "markdown",
   "metadata": {},
   "source": [
    "# Predict with distilled DeepSTARR models"
   ]
  },
  {
   "cell_type": "code",
   "execution_count": 14,
   "metadata": {},
   "outputs": [],
   "source": [
    "distilled_model_files = [f'../results/DeepSTARR_ensemble_NEW/distilled_with_std/{ix}_DeepSTARR.h5' for ix in range(1,11)]"
   ]
  },
  {
   "cell_type": "code",
   "execution_count": 15,
   "metadata": {},
   "outputs": [
    {
     "name": "stdout",
     "output_type": "stream",
     "text": [
      "../results/DeepSTARR_ensemble_NEW/distilled_with_std/1_DeepSTARR.h5\n"
     ]
    }
   ],
   "source": [
    "print(distilled_model_files[0])\n",
    "test_mod = load_model(distilled_model_files[0])"
   ]
  },
  {
   "cell_type": "code",
   "execution_count": 16,
   "metadata": {},
   "outputs": [
    {
     "name": "stderr",
     "output_type": "stream",
     "text": [
      "2024-09-19 15:58:20.967838: I tensorflow/compiler/xla/stream_executor/cuda/cuda_dnn.cc:428] Loaded cuDNN version 8100\n"
     ]
    },
    {
     "name": "stdout",
     "output_type": "stream",
     "text": [
      "  62/1288 [>.............................] - ETA: 3s"
     ]
    },
    {
     "name": "stderr",
     "output_type": "stream",
     "text": [
      "2024-09-19 15:58:22.409169: I tensorflow/compiler/xla/stream_executor/cuda/cuda_blas.cc:630] TensorFloat-32 will be used for the matrix multiplication. This will only be logged once.\n"
     ]
    },
    {
     "name": "stdout",
     "output_type": "stream",
     "text": [
      "1288/1288 [==============================] - 5s 2ms/step\n"
     ]
    }
   ],
   "source": [
    "# predict on original seqs \n",
    "genomic_preds = test_mod.predict(X_test)"
   ]
  },
  {
   "cell_type": "code",
   "execution_count": 17,
   "metadata": {},
   "outputs": [
    {
     "name": "stdout",
     "output_type": "stream",
     "text": [
      "1288/1288 [==============================] - 3s 2ms/step\n"
     ]
    }
   ],
   "source": [
    "# predict on small shift\n",
    "mut_preds = test_mod.predict(X_test_mutagenesis)"
   ]
  },
  {
   "cell_type": "code",
   "execution_count": 18,
   "metadata": {},
   "outputs": [
    {
     "name": "stdout",
     "output_type": "stream",
     "text": [
      "1288/1288 [==============================] - 3s 2ms/step\n"
     ]
    }
   ],
   "source": [
    "# predict on moderate shift\n",
    "evoaug_preds = test_mod.predict(X_test_evoaug)"
   ]
  },
  {
   "cell_type": "code",
   "execution_count": 19,
   "metadata": {},
   "outputs": [
    {
     "name": "stdout",
     "output_type": "stream",
     "text": [
      "1288/1288 [==============================] - 3s 2ms/step\n"
     ]
    }
   ],
   "source": [
    "# predict on large shift\n",
    "shuffle_preds = test_mod.predict(X_test_random)"
   ]
  },
  {
   "cell_type": "markdown",
   "metadata": {},
   "source": [
    "# Plot distribution (for preds on Dev activity head)"
   ]
  },
  {
   "cell_type": "code",
   "execution_count": 20,
   "metadata": {},
   "outputs": [
    {
     "data": {
      "image/png": "[encoded data removed]",
      "text/plain": [
       "<Figure size 500x300 with 1 Axes>"
      ]
     },
     "metadata": {},
     "output_type": "display_data"
    }
   ],
   "source": [
    "num_bins = 30\n",
    "\n",
    "fig = plt.figure(figsize=(5,3))\n",
    "plt.hist(y_test[:,0], histtype='step', bins=num_bins)\n",
    "plt.hist(genomic_preds[:,0], histtype='step', bins=num_bins)\n",
    "plt.hist(mut_preds[:,0], histtype='step', bins=num_bins)\n",
    "plt.hist(evoaug_preds[:,0], histtype='step', bins=num_bins)\n",
    "plt.hist(shuffle_preds[:,0], histtype='step', bins=num_bins)\n",
    "plt.legend(['STARR-seq', 'no shift', 'small shift', 'moderate shift', 'large shift'], frameon=False)\n",
    "\n",
    "ax = plt.gca()\n",
    "ax.spines['right'].set_visible(False)\n",
    "ax.spines['top'].set_visible(False)\n",
    "\n"
   ]
  },
  {
   "cell_type": "code",
   "execution_count": 21,
   "metadata": {},
   "outputs": [
    {
     "data": {
      "image/png": "[encoded data removed]",
      "text/plain": [
       "<Figure size 500x300 with 1 Axes>"
      ]
     },
     "metadata": {},
     "output_type": "display_data"
    }
   ],
   "source": [
    "def cumulative_distribution(data, num_bins):\n",
    "    counts, bin_edges = np.histogram(data, bins=num_bins)\n",
    "    cdf = np.cumsum(counts)\n",
    "    cdf = cdf / cdf[-1]  # Normalize\n",
    "    return bin_edges[:-1], cdf\n",
    "\n",
    "\n",
    "num_bins = 1000\n",
    "fig = plt.figure(figsize=(5,3))\n",
    "plt.plot(*cumulative_distribution(y_test[:,0], num_bins), drawstyle='steps-post')\n",
    "plt.plot(*cumulative_distribution(genomic_preds[:,0], num_bins), drawstyle='steps-post')\n",
    "plt.plot(*cumulative_distribution(mut_preds[:,0], num_bins), drawstyle='steps-post')\n",
    "plt.plot(*cumulative_distribution(evoaug_preds[:,0], num_bins), drawstyle='steps-post')\n",
    "plt.plot(*cumulative_distribution(shuffle_preds[:,0], num_bins), drawstyle='steps-post')\n",
    "\n",
    "# plt.legend(['experiment', 'genomic', 'small shift', 'moderate shift', 'large shift'], frameon=False)\n",
    "plt.legend(['STARR-seq', 'no shift', 'mutagenesis', 'evoaug', 'shuffle'], frameon=False)\n",
    "plt.xlabel('Enhancer activity')\n",
    "plt.ylabel('Cumulative Probability')\n",
    "#plt.title('Cumulative Distribution Plot')\n",
    "plt.axis('tight')\n",
    "ax = plt.gca()\n",
    "ax.spines['right'].set_visible(False)\n",
    "ax.spines['top'].set_visible(False)\n",
    "\n",
    "#plt.grid(True, linestyle='--', alpha=0.7)\n"
   ]
  },
  {
   "cell_type": "markdown",
   "metadata": {},
   "source": [
    "# Save preds on shifted seqs as pickle file for plotting"
   ]
  },
  {
   "cell_type": "code",
   "execution_count": 22,
   "metadata": {},
   "outputs": [],
   "source": [
    "deepstarr_ood_preds = {}\n",
    "deepstarr_ood_preds['experimental'] = y_test\n",
    "deepstarr_ood_preds['no_shift'] = genomic_preds\n",
    "deepstarr_ood_preds['mutagenesis'] = mut_preds\n",
    "deepstarr_ood_preds['evoaug'] = evoaug_preds\n",
    "deepstarr_ood_preds['shuffle'] = shuffle_preds \n",
    "\n",
    "# Save the dictionary to a pickle file\n",
    "with open('../figures/deepstarr_ood_preds.pickle', 'wb') as file:\n",
    "    pickle.dump(deepstarr_ood_preds, file)\n",
    "    "
   ]
  },
  {
   "cell_type": "markdown",
   "metadata": {},
   "source": [
    "# Calculate MSE relative to ensemble"
   ]
  },
  {
   "cell_type": "code",
   "execution_count": 80,
   "metadata": {},
   "outputs": [
    {
     "name": "stdout",
     "output_type": "stream",
     "text": [
      "model ix: 1\n",
      "1288/1288 [==============================] - 3s 2ms/step\n",
      "model ix: 2\n",
      "1288/1288 [==============================] - 3s 2ms/step\n",
      "model ix: 3\n",
      "1288/1288 [==============================] - 3s 2ms/step\n",
      "model ix: 4\n",
      "1288/1288 [==============================] - 3s 2ms/step\n",
      "model ix: 5\n",
      "1288/1288 [==============================] - 3s 2ms/step\n",
      "model ix: 6\n",
      "1288/1288 [==============================] - 3s 2ms/step\n",
      "model ix: 7\n",
      "1288/1288 [==============================] - 3s 2ms/step\n",
      "model ix: 8\n",
      "1288/1288 [==============================] - 3s 2ms/step\n",
      "model ix: 9\n",
      "1288/1288 [==============================] - 3s 2ms/step\n",
      "model ix: 10\n",
      "1288/1288 [==============================] - 3s 2ms/step\n",
      "model ix: 1\n",
      "1288/1288 [==============================] - 3s 2ms/step\n",
      "model ix: 2\n",
      "1288/1288 [==============================] - 3s 2ms/step\n",
      "model ix: 3\n",
      "1288/1288 [==============================] - 3s 2ms/step\n",
      "model ix: 4\n",
      "1288/1288 [==============================] - 3s 2ms/step\n",
      "model ix: 5\n",
      "1288/1288 [==============================] - 3s 2ms/step\n",
      "model ix: 6\n",
      "1288/1288 [==============================] - 3s 2ms/step\n",
      "model ix: 7\n",
      "1288/1288 [==============================] - 3s 2ms/step\n",
      "model ix: 8\n",
      "1288/1288 [==============================] - 3s 2ms/step\n",
      "model ix: 9\n",
      "1288/1288 [==============================] - 3s 2ms/step\n",
      "model ix: 10\n",
      "1288/1288 [==============================] - 3s 2ms/step\n",
      "model ix: 1\n",
      "1288/1288 [==============================] - 3s 2ms/step\n",
      "model ix: 2\n",
      "1288/1288 [==============================] - 3s 2ms/step\n",
      "model ix: 3\n",
      "1288/1288 [==============================] - 3s 2ms/step\n",
      "model ix: 4\n",
      "1288/1288 [==============================] - 3s 2ms/step\n",
      "model ix: 5\n",
      "1288/1288 [==============================] - 3s 2ms/step\n",
      "model ix: 6\n",
      "1288/1288 [==============================] - 3s 2ms/step\n",
      "model ix: 7\n",
      "1288/1288 [==============================] - 3s 2ms/step\n",
      "model ix: 8\n",
      "1288/1288 [==============================] - 3s 2ms/step\n",
      "model ix: 9\n",
      "1288/1288 [==============================] - 3s 2ms/step\n",
      "model ix: 10\n",
      "1288/1288 [==============================] - 3s 2ms/step\n",
      "model ix: 1\n",
      "1288/1288 [==============================] - 3s 2ms/step\n",
      "model ix: 2\n",
      "1288/1288 [==============================] - 3s 2ms/step\n",
      "model ix: 3\n",
      "1288/1288 [==============================] - 3s 2ms/step\n",
      "model ix: 4\n",
      "1288/1288 [==============================] - 3s 2ms/step\n",
      "model ix: 5\n",
      "1288/1288 [==============================] - 3s 2ms/step\n",
      "model ix: 6\n",
      "1288/1288 [==============================] - 3s 2ms/step\n",
      "model ix: 7\n",
      "1288/1288 [==============================] - 3s 2ms/step\n",
      "model ix: 8\n",
      "1288/1288 [==============================] - 3s 2ms/step\n",
      "model ix: 9\n",
      "1288/1288 [==============================] - 3s 2ms/step\n",
      "model ix: 10\n",
      "1288/1288 [==============================] - 3s 2ms/step\n"
     ]
    }
   ],
   "source": [
    "ensemble_files = [f'../results/DeepSTARR_ensemble_NEW/{ix}_DeepSTARR.h5' for ix in range(1,11)]\n",
    "\n",
    "ensemble_avg_dict = {}\n",
    "seqs_dict = {'no_shift': X_test,\n",
    "             'mutagenesis': X_test_mutagenesis,\n",
    "             'evoaug': X_test_evoaug,\n",
    "             'shuffle': X_test_random}\n",
    "for jx, aug in enumerate(['no_shift', 'mutagenesis', 'evoaug', 'shuffle']):\n",
    "    ensemble_sum = 0\n",
    "    for ix, file in enumerate(ensemble_files):\n",
    "        print(f'model ix: {ix+1}')\n",
    "        # clear history\n",
    "        keras.backend.clear_session()\n",
    "        gc.collect()\n",
    "        model = load_model(file)\n",
    "        \n",
    "        # predict\n",
    "        preds = model.predict(seqs_dict[aug])\n",
    "        ensemble_sum += preds\n",
    "    ensemble_avg_dict[aug] = ensemble_sum/10"
   ]
  },
  {
   "cell_type": "code",
   "execution_count": 84,
   "metadata": {},
   "outputs": [],
   "source": [
    "from sklearn.metrics import mean_squared_error\n",
    "\n",
    "mse_dict = {}\n",
    "for k,v in ensemble_avg_dict.items():\n",
    "    mse_dict[k] = mean_squared_error(v[:,0], deepstarr_ood_preds[k][:,0])"
   ]
  },
  {
   "cell_type": "code",
   "execution_count": 85,
   "metadata": {},
   "outputs": [
    {
     "data": {
      "text/plain": [
       "{'no_shift': 0.05372095,\n",
       " 'mutagenesis': 0.04982339,\n",
       " 'evoaug': 0.054571133,\n",
       " 'shuffle': 0.030691454}"
      ]
     },
     "execution_count": 85,
     "metadata": {},
     "output_type": "execute_result"
    }
   ],
   "source": [
    "mse_dict"
   ]
  },
  {
   "cell_type": "code",
   "execution_count": null,
   "metadata": {},
   "outputs": [],
   "source": []
  }
 ],
 "metadata": {
  "kernelspec": {
   "display_name": "tf2",
   "language": "python",
   "name": "python3"
  },
  "language_info": {
   "codemirror_mode": {
    "name": "ipython",
    "version": 3
   },
   "file_extension": ".py",
   "mimetype": "text/x-python",
   "name": "python",
   "nbconvert_exporter": "python",
   "pygments_lexer": "ipython3",
   "version": "3.9.18"
  }
 },
 "nbformat": 4,
 "nbformat_minor": 2
}
