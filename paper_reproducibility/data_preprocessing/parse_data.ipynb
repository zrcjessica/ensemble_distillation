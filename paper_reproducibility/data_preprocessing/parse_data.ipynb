{
 "cells": [
  {
   "cell_type": "code",
   "execution_count": 6,
   "metadata": {},
   "outputs": [],
   "source": [
    "import pandas as pd\n",
    "import h5py\n",
    "import numpy as np"
   ]
  },
  {
   "cell_type": "markdown",
   "metadata": {},
   "source": [
    "# One hot encode\n",
    "\n",
    "For DeepSTARR, N's are sometimes present."
   ]
  },
  {
   "cell_type": "code",
   "execution_count": 7,
   "metadata": {},
   "outputs": [],
   "source": [
    "# define a dictionary to map nucleotides to their one-hot encoded representation\n",
    "nucleotide_dict = {'A': [1.0, 0, 0, 0],\n",
    "                   'C': [0, 1.0, 0, 0],\n",
    "                   'G': [0, 0, 1.0, 0],\n",
    "                   'T': [0, 0, 0, 1.0],\n",
    "                   'N': [0, 0, 0, 0]} # sometimes there are Ns\n",
    "\n",
    "# write function for one hot encoding a DNA sequence\n",
    "def one_hot_encode(seq):\n",
    "    return [nucleotide_dict[base] for base in seq]"
   ]
  },
  {
   "cell_type": "markdown",
   "metadata": {},
   "source": [
    "# DeepSTARR data\n",
    "- All: `wget https://data.starklab.org/almeida/DeepSTARR/Tutorial/Sequences_activity_all.txt`\n",
    "- Subset: `wget https://data.starklab.org/almeida/DeepSTARR/Tutorial/Sequences_activity_subset.txt`\n",
    "\n",
    "## Load subset"
   ]
  },
  {
   "cell_type": "code",
   "execution_count": 21,
   "metadata": {},
   "outputs": [
    {
     "data": {
      "text/html": [
       "<div>\n",
       "<style scoped>\n",
       "    .dataframe tbody tr th:only-of-type {\n",
       "        vertical-align: middle;\n",
       "    }\n",
       "\n",
       "    .dataframe tbody tr th {\n",
       "        vertical-align: top;\n",
       "    }\n",
       "\n",
       "    .dataframe thead th {\n",
       "        text-align: right;\n",
       "    }\n",
       "</style>\n",
       "<table border=\"1\" class=\"dataframe\">\n",
       "  <thead>\n",
       "    <tr style=\"text-align: right;\">\n",
       "      <th></th>\n",
       "      <th>seqnames</th>\n",
       "      <th>start</th>\n",
       "      <th>end</th>\n",
       "      <th>ID</th>\n",
       "      <th>set</th>\n",
       "      <th>Sequence</th>\n",
       "      <th>Dev_log2_enrichment</th>\n",
       "      <th>Hk_log2_enrichment</th>\n",
       "    </tr>\n",
       "  </thead>\n",
       "  <tbody>\n",
       "    <tr>\n",
       "      <th>0</th>\n",
       "      <td>chr3R</td>\n",
       "      <td>21360001</td>\n",
       "      <td>21360249</td>\n",
       "      <td>chr3R_21360001_21360249_+_negative</td>\n",
       "      <td>Train</td>\n",
       "      <td>TGGGTCAGCTCGGCGTAGTCCGAAATCTATTCTTTCAATTATTAAT...</td>\n",
       "      <td>0.438053</td>\n",
       "      <td>-1.102117</td>\n",
       "    </tr>\n",
       "    <tr>\n",
       "      <th>1</th>\n",
       "      <td>chr3L</td>\n",
       "      <td>4121751</td>\n",
       "      <td>4121999</td>\n",
       "      <td>chr3L_4121751_4121999_-_positive_peaks</td>\n",
       "      <td>Train</td>\n",
       "      <td>TTGTCAAGATTTTATCTTCGCGCGCCAAATGCCAAAAATTAGCCAA...</td>\n",
       "      <td>5.796507</td>\n",
       "      <td>2.271401</td>\n",
       "    </tr>\n",
       "    <tr>\n",
       "      <th>2</th>\n",
       "      <td>chrX</td>\n",
       "      <td>17616495</td>\n",
       "      <td>17616743</td>\n",
       "      <td>chrX_17616495_17616743_+_peak_849bp_region</td>\n",
       "      <td>Train</td>\n",
       "      <td>GTTCTATTGCTCGACTGTGTGTGCGGCAATCTATAATATAAGATGT...</td>\n",
       "      <td>1.271845</td>\n",
       "      <td>0.089503</td>\n",
       "    </tr>\n",
       "    <tr>\n",
       "      <th>3</th>\n",
       "      <td>chr3R</td>\n",
       "      <td>23774097</td>\n",
       "      <td>23774345</td>\n",
       "      <td>chr3R_23774097_23774345_+_peak_849bp_region</td>\n",
       "      <td>Train</td>\n",
       "      <td>TACATGAAAAGATACTAATTTGTTTCAAATATAAATCATATATCTA...</td>\n",
       "      <td>-1.425885</td>\n",
       "      <td>-1.103772</td>\n",
       "    </tr>\n",
       "    <tr>\n",
       "      <th>4</th>\n",
       "      <td>chr3L</td>\n",
       "      <td>17300157</td>\n",
       "      <td>17300405</td>\n",
       "      <td>chr3L_17300157_17300405_-_peak_849bp_region</td>\n",
       "      <td>Train</td>\n",
       "      <td>GGTCCGCAAACAAACACACTCAATTACATGCAGTAAAATTTGTTTT...</td>\n",
       "      <td>-0.964305</td>\n",
       "      <td>-1.241142</td>\n",
       "    </tr>\n",
       "  </tbody>\n",
       "</table>\n",
       "</div>"
      ],
      "text/plain": [
       "  seqnames     start       end                                           ID  \\\n",
       "0    chr3R  21360001  21360249           chr3R_21360001_21360249_+_negative   \n",
       "1    chr3L   4121751   4121999       chr3L_4121751_4121999_-_positive_peaks   \n",
       "2     chrX  17616495  17616743   chrX_17616495_17616743_+_peak_849bp_region   \n",
       "3    chr3R  23774097  23774345  chr3R_23774097_23774345_+_peak_849bp_region   \n",
       "4    chr3L  17300157  17300405  chr3L_17300157_17300405_-_peak_849bp_region   \n",
       "\n",
       "     set                                           Sequence  \\\n",
       "0  Train  TGGGTCAGCTCGGCGTAGTCCGAAATCTATTCTTTCAATTATTAAT...   \n",
       "1  Train  TTGTCAAGATTTTATCTTCGCGCGCCAAATGCCAAAAATTAGCCAA...   \n",
       "2  Train  GTTCTATTGCTCGACTGTGTGTGCGGCAATCTATAATATAAGATGT...   \n",
       "3  Train  TACATGAAAAGATACTAATTTGTTTCAAATATAAATCATATATCTA...   \n",
       "4  Train  GGTCCGCAAACAAACACACTCAATTACATGCAGTAAAATTTGTTTT...   \n",
       "\n",
       "   Dev_log2_enrichment  Hk_log2_enrichment  \n",
       "0             0.438053           -1.102117  \n",
       "1             5.796507            2.271401  \n",
       "2             1.271845            0.089503  \n",
       "3            -1.425885           -1.103772  \n",
       "4            -0.964305           -1.241142  "
      ]
     },
     "execution_count": 21,
     "metadata": {},
     "output_type": "execute_result"
    }
   ],
   "source": [
    "subset = pd.read_table('../data/DeepSTARR/Sequences_activity_subset.txt')\n",
    "subset.head()"
   ]
  },
  {
   "cell_type": "code",
   "execution_count": 22,
   "metadata": {},
   "outputs": [
    {
     "data": {
      "text/plain": [
       "set\n",
       "Train    50000\n",
       "Test     41186\n",
       "Val      40570\n",
       "Name: count, dtype: int64"
      ]
     },
     "execution_count": 22,
     "metadata": {},
     "output_type": "execute_result"
    }
   ],
   "source": [
    "# check number of sequences between train/val/test data\n",
    "subset['set'].value_counts()"
   ]
  },
  {
   "cell_type": "markdown",
   "metadata": {},
   "source": [
    "## Load all"
   ]
  },
  {
   "cell_type": "code",
   "execution_count": 23,
   "metadata": {},
   "outputs": [
    {
     "data": {
      "text/html": [
       "<div>\n",
       "<style scoped>\n",
       "    .dataframe tbody tr th:only-of-type {\n",
       "        vertical-align: middle;\n",
       "    }\n",
       "\n",
       "    .dataframe tbody tr th {\n",
       "        vertical-align: top;\n",
       "    }\n",
       "\n",
       "    .dataframe thead th {\n",
       "        text-align: right;\n",
       "    }\n",
       "</style>\n",
       "<table border=\"1\" class=\"dataframe\">\n",
       "  <thead>\n",
       "    <tr style=\"text-align: right;\">\n",
       "      <th></th>\n",
       "      <th>seqnames</th>\n",
       "      <th>start</th>\n",
       "      <th>end</th>\n",
       "      <th>ID</th>\n",
       "      <th>set</th>\n",
       "      <th>Sequence</th>\n",
       "      <th>Dev_log2_enrichment</th>\n",
       "      <th>Hk_log2_enrichment</th>\n",
       "    </tr>\n",
       "  </thead>\n",
       "  <tbody>\n",
       "    <tr>\n",
       "      <th>0</th>\n",
       "      <td>chr2L</td>\n",
       "      <td>5587</td>\n",
       "      <td>5835</td>\n",
       "      <td>chr2L_5587_5835_+_positive_peaks</td>\n",
       "      <td>Train</td>\n",
       "      <td>ATTCAGATTGCCTCTCATTGTCTCACCCATATTATGGGAACCAAAT...</td>\n",
       "      <td>5.711541</td>\n",
       "      <td>1.362522</td>\n",
       "    </tr>\n",
       "    <tr>\n",
       "      <th>1</th>\n",
       "      <td>chr2L</td>\n",
       "      <td>5778</td>\n",
       "      <td>6026</td>\n",
       "      <td>chr2L_5778_6026_+_positive_peaks</td>\n",
       "      <td>Train</td>\n",
       "      <td>AAATGGCCGCTCAAGAAAAGGCTCGAATATATATTGCCTGCCTCTC...</td>\n",
       "      <td>5.153053</td>\n",
       "      <td>1.671419</td>\n",
       "    </tr>\n",
       "    <tr>\n",
       "      <th>2</th>\n",
       "      <td>chr2L</td>\n",
       "      <td>14226</td>\n",
       "      <td>14474</td>\n",
       "      <td>chr2L_14226_14474_+_positive_peaks</td>\n",
       "      <td>Train</td>\n",
       "      <td>ATAAGGATCAAAAAGTCCTGATTTCCGAAATGGCGGTTCTCCTTCA...</td>\n",
       "      <td>2.537589</td>\n",
       "      <td>0.290201</td>\n",
       "    </tr>\n",
       "    <tr>\n",
       "      <th>3</th>\n",
       "      <td>chr2L</td>\n",
       "      <td>18618</td>\n",
       "      <td>18866</td>\n",
       "      <td>chr2L_18618_18866_+_positive_peaks</td>\n",
       "      <td>Train</td>\n",
       "      <td>TTTCCATGACTGACTGGAATGGGTGGAGAACATCGCTTTGGGAGTG...</td>\n",
       "      <td>1.608880</td>\n",
       "      <td>4.097828</td>\n",
       "    </tr>\n",
       "    <tr>\n",
       "      <th>4</th>\n",
       "      <td>chr2L</td>\n",
       "      <td>34121</td>\n",
       "      <td>34369</td>\n",
       "      <td>chr2L_34121_34369_+_positive_peaks</td>\n",
       "      <td>Train</td>\n",
       "      <td>TCTATCGACCCATAGCCGTAGTCGCTAGACCCGCCCTTCGGAGCAT...</td>\n",
       "      <td>2.767123</td>\n",
       "      <td>0.393657</td>\n",
       "    </tr>\n",
       "  </tbody>\n",
       "</table>\n",
       "</div>"
      ],
      "text/plain": [
       "  seqnames  start    end                                  ID    set  \\\n",
       "0    chr2L   5587   5835    chr2L_5587_5835_+_positive_peaks  Train   \n",
       "1    chr2L   5778   6026    chr2L_5778_6026_+_positive_peaks  Train   \n",
       "2    chr2L  14226  14474  chr2L_14226_14474_+_positive_peaks  Train   \n",
       "3    chr2L  18618  18866  chr2L_18618_18866_+_positive_peaks  Train   \n",
       "4    chr2L  34121  34369  chr2L_34121_34369_+_positive_peaks  Train   \n",
       "\n",
       "                                            Sequence  Dev_log2_enrichment  \\\n",
       "0  ATTCAGATTGCCTCTCATTGTCTCACCCATATTATGGGAACCAAAT...             5.711541   \n",
       "1  AAATGGCCGCTCAAGAAAAGGCTCGAATATATATTGCCTGCCTCTC...             5.153053   \n",
       "2  ATAAGGATCAAAAAGTCCTGATTTCCGAAATGGCGGTTCTCCTTCA...             2.537589   \n",
       "3  TTTCCATGACTGACTGGAATGGGTGGAGAACATCGCTTTGGGAGTG...             1.608880   \n",
       "4  TCTATCGACCCATAGCCGTAGTCGCTAGACCCGCCCTTCGGAGCAT...             2.767123   \n",
       "\n",
       "   Hk_log2_enrichment  \n",
       "0            1.362522  \n",
       "1            1.671419  \n",
       "2            0.290201  \n",
       "3            4.097828  \n",
       "4            0.393657  "
      ]
     },
     "execution_count": 23,
     "metadata": {},
     "output_type": "execute_result"
    }
   ],
   "source": [
    "all = pd.read_table(\"../data/DeepSTARR/Sequences_activity_all.txt\")\n",
    "all.head()"
   ]
  },
  {
   "cell_type": "code",
   "execution_count": 24,
   "metadata": {},
   "outputs": [
    {
     "data": {
      "text/plain": [
       "set\n",
       "Train    402296\n",
       "Test      41186\n",
       "Val       40570\n",
       "Name: count, dtype: int64"
      ]
     },
     "execution_count": 24,
     "metadata": {},
     "output_type": "execute_result"
    }
   ],
   "source": [
    "# check number of sequences between train/val/test data\n",
    "all['set'].value_counts()"
   ]
  },
  {
   "cell_type": "markdown",
   "metadata": {},
   "source": [
    "## Parse data and write to h5 file"
   ]
  },
  {
   "cell_type": "code",
   "execution_count": 25,
   "metadata": {},
   "outputs": [],
   "source": [
    "def parse_to_h5(data, h5_path, hierarchical = False):\n",
    "\n",
    "    hf = h5py.File(h5_path, 'w')\n",
    "\n",
    "    for set in data['set'].unique():\n",
    "        print(set)\n",
    "\n",
    "        # get one hot encoded seqs\n",
    "        one_hot_seqs = np.array(data[data['set']==set]['Sequence'].apply(lambda x: one_hot_encode(x)).to_list())\n",
    "\n",
    "        # get target values\n",
    "        targets = data[data['set']==set][['Dev_log2_enrichment', 'Hk_log2_enrichment']].values\n",
    "\n",
    "        # get indices of samples in this set\n",
    "        set_idx = data[data['set']==set].index.values\n",
    "        \n",
    "        if hierarchical:\n",
    "            grp = hf.create_group(set)\n",
    "            grp.create_dataset('X', data = one_hot_seqs)\n",
    "            grp.create_dataset('y', data = targets)\n",
    "            grp.create_dataset('idx', data = set_idx)\n",
    "        else:\n",
    "            hf.create_dataset('X_'+set, data = one_hot_seqs)\n",
    "            hf.create_dataset('y_'+set, data = targets)\n",
    "            hf.create_dataset('idx_'+set, data = set_idx)\n",
    "    \n",
    "    hf.close()\n"
   ]
  },
  {
   "cell_type": "code",
   "execution_count": 30,
   "metadata": {},
   "outputs": [
    {
     "name": "stdout",
     "output_type": "stream",
     "text": [
      "Train\n",
      "Val\n",
      "Test\n"
     ]
    }
   ],
   "source": [
    "parse_to_h5(all, \"../data/DeepSTARR/Sequences_activity_all_hierarchical.h5\", hierarchical=True)\n",
    "parse_to_h5(subset, \"../data/DeepSTARR/Sequences_activity_subset_hierarchical.h5\", hierarchical=True)"
   ]
  },
  {
   "cell_type": "markdown",
   "metadata": {},
   "source": [
    "## Check saved data in h5 files\n",
    "\n",
    "### Subset"
   ]
  },
  {
   "cell_type": "code",
   "execution_count": 40,
   "metadata": {},
   "outputs": [
    {
     "data": {
      "text/plain": [
       "<KeysViewHDF5 ['Test', 'Train', 'Val']>"
      ]
     },
     "execution_count": 40,
     "metadata": {},
     "output_type": "execute_result"
    }
   ],
   "source": [
    "# hf = h5py.File('../data/DeepSTARR/Sequences_activity_subset.h5', 'r')\n",
    "hf = h5py.File('../data/DeepSTARR/Sequences_activity_subset_hierarchical.h5', 'r')\n",
    "hf.keys()"
   ]
  },
  {
   "cell_type": "code",
   "execution_count": 41,
   "metadata": {},
   "outputs": [
    {
     "data": {
      "text/plain": [
       "<KeysViewHDF5 ['X', 'idx', 'y']>"
      ]
     },
     "execution_count": 41,
     "metadata": {},
     "output_type": "execute_result"
    }
   ],
   "source": [
    "hf['Test'].keys()"
   ]
  },
  {
   "cell_type": "code",
   "execution_count": 16,
   "metadata": {},
   "outputs": [
    {
     "data": {
      "text/plain": [
       "array([[[0., 0., 0., 1.],\n",
       "        [0., 0., 1., 0.],\n",
       "        [0., 0., 1., 0.],\n",
       "        ...,\n",
       "        [0., 0., 0., 1.],\n",
       "        [0., 0., 0., 1.],\n",
       "        [0., 0., 0., 1.]],\n",
       "\n",
       "       [[0., 0., 0., 1.],\n",
       "        [0., 0., 0., 1.],\n",
       "        [0., 0., 1., 0.],\n",
       "        ...,\n",
       "        [0., 0., 1., 0.],\n",
       "        [1., 0., 0., 0.],\n",
       "        [0., 0., 0., 1.]],\n",
       "\n",
       "       [[0., 0., 1., 0.],\n",
       "        [0., 0., 0., 1.],\n",
       "        [0., 0., 0., 1.],\n",
       "        ...,\n",
       "        [1., 0., 0., 0.],\n",
       "        [0., 0., 0., 1.],\n",
       "        [1., 0., 0., 0.]],\n",
       "\n",
       "       ...,\n",
       "\n",
       "       [[0., 0., 1., 0.],\n",
       "        [1., 0., 0., 0.],\n",
       "        [0., 1., 0., 0.],\n",
       "        ...,\n",
       "        [0., 1., 0., 0.],\n",
       "        [0., 1., 0., 0.],\n",
       "        [0., 0., 0., 1.]],\n",
       "\n",
       "       [[0., 1., 0., 0.],\n",
       "        [0., 0., 0., 1.],\n",
       "        [0., 0., 0., 1.],\n",
       "        ...,\n",
       "        [0., 0., 0., 1.],\n",
       "        [0., 0., 0., 1.],\n",
       "        [0., 0., 0., 1.]],\n",
       "\n",
       "       [[0., 1., 0., 0.],\n",
       "        [0., 0., 0., 1.],\n",
       "        [0., 1., 0., 0.],\n",
       "        ...,\n",
       "        [0., 0., 1., 0.],\n",
       "        [0., 1., 0., 0.],\n",
       "        [1., 0., 0., 0.]]], dtype=float32)"
      ]
     },
     "execution_count": 16,
     "metadata": {},
     "output_type": "execute_result"
    }
   ],
   "source": [
    "np.array(hf['one_hot_seqs_Train']).astype(np.float32)"
   ]
  },
  {
   "cell_type": "code",
   "execution_count": 17,
   "metadata": {},
   "outputs": [
    {
     "data": {
      "text/plain": [
       "(249, 4)"
      ]
     },
     "execution_count": 17,
     "metadata": {},
     "output_type": "execute_result"
    }
   ],
   "source": [
    "np.array(hf['one_hot_seqs_Train'])[0].astype(np.float32).shape"
   ]
  },
  {
   "cell_type": "code",
   "execution_count": 10,
   "metadata": {},
   "outputs": [],
   "source": [
    "hf.close()"
   ]
  },
  {
   "cell_type": "markdown",
   "metadata": {},
   "source": [
    "# Add data for distillation \n",
    "- mean of ensemble prediction on `X_train`\n",
    "- standard deviation data"
   ]
  },
  {
   "cell_type": "code",
   "execution_count": 31,
   "metadata": {},
   "outputs": [],
   "source": [
    "def load_DeepSTARR_data(file, get_idx=False):\n",
    "    '''\n",
    "    load Train/Test/Val data from DeepSTARR h5\n",
    "    '''\n",
    "    data = h5py.File(file, 'r')\n",
    "    \n",
    "    # test\n",
    "    X_train = np.array(data['X_Train'])\n",
    "    y_train = np.array(data['y_Train'])\n",
    "\n",
    "    # train\n",
    "    X_test = np.array(data['X_Test'])\n",
    "    y_test = np.array(data['y_Test'])\n",
    "\n",
    "    # validation\n",
    "    X_val = np.array(data['X_Val'])\n",
    "    y_val = np.array(data['y_Val'])\n",
    "\n",
    "    # get idx\n",
    "    if get_idx:\n",
    "        idx_train = np.array(data['idx_Train'])\n",
    "        idx_test = np.array(data['idx_Test'])\n",
    "        idx_val = np.array(data['idx_Val'])\n",
    "        data.close()\n",
    "        return X_train, y_train, X_test, y_test, X_val, y_val, idx_train, idx_test, idx_val\n",
    "    else:\n",
    "        data.close()\n",
    "        return X_train, y_train, X_test, y_test, X_val, y_val"
   ]
  },
  {
   "cell_type": "code",
   "execution_count": 32,
   "metadata": {},
   "outputs": [],
   "source": [
    "X_train, y_train, X_test, y_test, X_val, y_val, idx_train, idx_test, idx_val = load_DeepSTARR_data(\"../data/DeepSTARR/Sequences_activity_all.h5\", get_idx=True)"
   ]
  },
  {
   "cell_type": "code",
   "execution_count": 33,
   "metadata": {},
   "outputs": [],
   "source": [
    "# # ensemble mean\n",
    "# ensemble_mean = np.load(\"../results/DeepSTARR_lr-decay/distilled_y_train.npy\")\n",
    "\n",
    "# # stdev\n",
    "# std_train = np.load(\"../data/DeepSTARR/ensemble_std_train.npy\")\n",
    "# std_test = np.load(\"../data/DeepSTARR/ensemble_std_test.npy\")\n",
    "# std_val = np.load(\"../data/DeepSTARR/ensemble_std_val.npy\")\n",
    "\n",
    "# ensemble mean\n",
    "ensemble_mean = np.load(\"../data/DeepSTARR/evoaug/ensemble_mean_y_train.npy\")\n",
    "\n",
    "# stdev\n",
    "std_train = np.load(\"../data/DeepSTARR/evoaug/ensemble_std_train.npy\")\n",
    "std_test = np.load(\"../data/DeepSTARR/evoaug/ensemble_std_test.npy\")\n",
    "std_val = np.load(\"../data/DeepSTARR/evoaug/ensemble_std_val.npy\")"
   ]
  },
  {
   "cell_type": "markdown",
   "metadata": {},
   "source": [
    "## Write to h5 file - hierarchical structure\n",
    "- Train/Test/Val groups \n",
    "- respective X, y, idx, etc. datasets"
   ]
  },
  {
   "cell_type": "code",
   "execution_count": 34,
   "metadata": {},
   "outputs": [],
   "source": [
    "h5_path = \"../data/DeepSTARR/evoaug/all_data_with_ensemble_metrics_hierarchical.h5\""
   ]
  },
  {
   "cell_type": "code",
   "execution_count": 35,
   "metadata": {},
   "outputs": [],
   "source": [
    "# hf.close()\n",
    "hf = h5py.File(h5_path, 'w')\n",
    "\n",
    "# write train data\n",
    "train = hf.create_group(\"Train\")\n",
    "train.create_dataset(\"X\", data = X_train)\n",
    "train.create_dataset(\"y\", data=y_train)\n",
    "train.create_dataset(\"idx\", data=idx_train)\n",
    "train.create_dataset(\"ensemble_mean\", data = ensemble_mean)\n",
    "train.create_dataset(\"std\", data=std_train)\n",
    "\n",
    "# write test data\n",
    "test = hf.create_group(\"Test\")\n",
    "test.create_dataset(\"X\", data=X_test)\n",
    "test.create_dataset(\"y\", data=y_test)\n",
    "test.create_dataset(\"idx\", data=idx_test)\n",
    "test.create_dataset(\"std\", data=std_test)\n",
    "\n",
    "# write val data\n",
    "val = hf.create_group(\"Val\")\n",
    "val.create_dataset(\"X\", data=X_val)\n",
    "val.create_dataset(\"y\", data=y_val)\n",
    "val.create_dataset(\"idx\", data=idx_val)\n",
    "val.create_dataset(\"std\", data=std_val)\n",
    "\n",
    "hf.close()\n",
    "\n"
   ]
  },
  {
   "cell_type": "markdown",
   "metadata": {},
   "source": [
    "## Examine file"
   ]
  },
  {
   "cell_type": "code",
   "execution_count": 40,
   "metadata": {},
   "outputs": [],
   "source": [
    "f = h5py.File(\"../data/DeepSTARR/all_data_with_ensemble_metrics_hierarchical.h5\", 'r')"
   ]
  },
  {
   "cell_type": "code",
   "execution_count": 41,
   "metadata": {},
   "outputs": [
    {
     "data": {
      "text/plain": [
       "['Test', 'Train', 'Val']"
      ]
     },
     "execution_count": 41,
     "metadata": {},
     "output_type": "execute_result"
    }
   ],
   "source": [
    "list(f.keys())"
   ]
  },
  {
   "cell_type": "code",
   "execution_count": 43,
   "metadata": {},
   "outputs": [
    {
     "data": {
      "text/plain": [
       "True"
      ]
     },
     "execution_count": 43,
     "metadata": {},
     "output_type": "execute_result"
    }
   ],
   "source": [
    "(np.array(f['Train']['X']).shape[-1] == 4) & (np.array(f['Test']['X']).shape[-1] == 4) & (np.array(f['Val']['X']).shape[-1] == 4)"
   ]
  },
  {
   "cell_type": "code",
   "execution_count": 38,
   "metadata": {},
   "outputs": [
    {
     "data": {
      "text/plain": [
       "(402296, 249, 4)"
      ]
     },
     "execution_count": 38,
     "metadata": {},
     "output_type": "execute_result"
    }
   ],
   "source": [
    "X = np.array(f['Train']['X'])\n",
    "X.shape"
   ]
  },
  {
   "cell_type": "code",
   "execution_count": 80,
   "metadata": {},
   "outputs": [],
   "source": [
    "y = np.array(f['Test']['y'])"
   ]
  },
  {
   "cell_type": "code",
   "execution_count": 81,
   "metadata": {},
   "outputs": [],
   "source": [
    "std = np.array(f['Test']['std'])"
   ]
  },
  {
   "cell_type": "code",
   "execution_count": 82,
   "metadata": {},
   "outputs": [],
   "source": [
    "y = np.append(y, std, axis=1)"
   ]
  },
  {
   "cell_type": "code",
   "execution_count": 83,
   "metadata": {},
   "outputs": [
    {
     "data": {
      "text/plain": [
       "(41186, 4)"
      ]
     },
     "execution_count": 83,
     "metadata": {},
     "output_type": "execute_result"
    }
   ],
   "source": [
    "y.shape"
   ]
  },
  {
   "cell_type": "code",
   "execution_count": 84,
   "metadata": {},
   "outputs": [
    {
     "data": {
      "text/plain": [
       "array([[ 3.41830648,  1.98308121,  0.48917714,  0.43232328],\n",
       "       [ 2.21154471, -0.37998202,  0.37549123,  0.22830618],\n",
       "       [ 3.48383142,  1.43486312,  0.62010232,  0.40132043],\n",
       "       ...,\n",
       "       [ 0.68102999, -2.15150483,  0.16026792,  0.39154715],\n",
       "       [ 1.14443051, -1.87732987,  0.18699398,  0.32178818],\n",
       "       [ 0.61593496, -1.20595262,  0.21096289,  0.20294738]])"
      ]
     },
     "execution_count": 84,
     "metadata": {},
     "output_type": "execute_result"
    }
   ],
   "source": [
    "y"
   ]
  },
  {
   "cell_type": "code",
   "execution_count": 75,
   "metadata": {},
   "outputs": [
    {
     "data": {
      "text/plain": [
       "array([[0.48917714, 0.43232328],\n",
       "       [0.37549123, 0.22830618],\n",
       "       [0.62010232, 0.40132043],\n",
       "       ...,\n",
       "       [0.16026792, 0.39154715],\n",
       "       [0.18699398, 0.32178818],\n",
       "       [0.21096289, 0.20294738]])"
      ]
     },
     "execution_count": 75,
     "metadata": {},
     "output_type": "execute_result"
    }
   ],
   "source": [
    "std"
   ]
  },
  {
   "cell_type": "code",
   "execution_count": 39,
   "metadata": {},
   "outputs": [],
   "source": [
    "f.close()"
   ]
  },
  {
   "cell_type": "markdown",
   "metadata": {},
   "source": [
    "## Write to h5 - flat structure\n",
    "- all datasets"
   ]
  },
  {
   "cell_type": "code",
   "execution_count": 86,
   "metadata": {},
   "outputs": [],
   "source": [
    "# hf.close()\n",
    "h5_path = \"../data/DeepSTARR/all_data_with_ensemble_metrics.h5\"\n",
    "hf = h5py.File(h5_path, 'w')\n",
    "\n",
    "# write train data\n",
    "hf.create_dataset(\"X_Train\", data=X_train)\n",
    "hf.create_dataset(\"y_Train\", data=y_train)\n",
    "hf.create_dataset(\"idx_Train\", data=idx_train)\n",
    "hf.create_dataset(\"ensemble_mean\", data=ensemble_mean)\n",
    "hf.create_dataset(\"std_Train\", data=std_train)\n",
    "\n",
    "# write test data\n",
    "hf.create_dataset(\"X_Test\", data=X_test)\n",
    "hf.create_dataset(\"y_Test\", data=y_test)\n",
    "hf.create_dataset(\"idx_Test\", data=idx_test)\n",
    "hf.create_dataset(\"std_Test\", data=std_test)\n",
    "\n",
    "# write val data\n",
    "hf.create_dataset(\"X_Val\", data=X_val)\n",
    "hf.create_dataset(\"y_Val\", data=y_val)\n",
    "hf.create_dataset(\"idx_Val\", data=idx_val)\n",
    "hf.create_dataset(\"std_Val\", data=std_val)\n",
    "\n",
    "hf.close()\n",
    "\n"
   ]
  },
  {
   "cell_type": "code",
   "execution_count": 88,
   "metadata": {},
   "outputs": [
    {
     "data": {
      "text/plain": [
       "True"
      ]
     },
     "execution_count": 88,
     "metadata": {},
     "output_type": "execute_result"
    }
   ],
   "source": [
    "'hierarchical' in \"../data/DeepSTARR/all_data_with_ensemble_metrics_hierarchical.h5\""
   ]
  },
  {
   "cell_type": "code",
   "execution_count": null,
   "metadata": {},
   "outputs": [],
   "source": []
  }
 ],
 "metadata": {
  "kernelspec": {
   "display_name": "tf2",
   "language": "python",
   "name": "python3"
  },
  "language_info": {
   "codemirror_mode": {
    "name": "ipython",
    "version": 3
   },
   "file_extension": ".py",
   "mimetype": "text/x-python",
   "name": "python",
   "nbconvert_exporter": "python",
   "pygments_lexer": "ipython3",
   "version": "3.9.18"
  }
 },
 "nbformat": 4,
 "nbformat_minor": 2
}
