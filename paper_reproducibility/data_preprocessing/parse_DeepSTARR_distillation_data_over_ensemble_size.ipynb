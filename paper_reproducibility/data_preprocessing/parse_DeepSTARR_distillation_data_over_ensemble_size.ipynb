{
 "cells": [
  {
   "cell_type": "code",
   "execution_count": 1,
   "metadata": {},
   "outputs": [
    {
     "name": "stderr",
     "output_type": "stream",
     "text": [
      "2024-09-25 14:32:11.967879: I tensorflow/core/platform/cpu_feature_guard.cc:193] This TensorFlow binary is optimized with oneAPI Deep Neural Network Library (oneDNN) to use the following CPU instructions in performance-critical operations:  AVX2 FMA\n",
      "To enable them in other operations, rebuild TensorFlow with the appropriate compiler flags.\n",
      "2024-09-25 14:32:12.867264: W tensorflow/compiler/xla/stream_executor/platform/default/dso_loader.cc:64] Could not load dynamic library 'libnvinfer.so.7'; dlerror: libnvinfer.so.7: cannot open shared object file: No such file or directory; LD_LIBRARY_PATH: /usr/local/cuda-11.2/lib64:/lib\n",
      "2024-09-25 14:32:12.867340: W tensorflow/compiler/xla/stream_executor/platform/default/dso_loader.cc:64] Could not load dynamic library 'libnvinfer_plugin.so.7'; dlerror: libnvinfer_plugin.so.7: cannot open shared object file: No such file or directory; LD_LIBRARY_PATH: /usr/local/cuda-11.2/lib64:/lib\n",
      "2024-09-25 14:32:12.867345: W tensorflow/compiler/tf2tensorrt/utils/py_utils.cc:38] TF-TRT Warning: Cannot dlopen some TensorRT libraries. If you would like to use Nvidia GPU with TensorRT, please make sure the missing libraries mentioned above are installed properly.\n"
     ]
    }
   ],
   "source": [
    "import pandas as pd\n",
    "import h5py\n",
    "import numpy as np\n",
    "import sys \n",
    "sys.path.append('../code')\n",
    "from utils import downsample, load_DeepSTARR_data"
   ]
  },
  {
   "cell_type": "markdown",
   "metadata": {},
   "source": [
    "# Load DeepSTARR data\n",
    "Used to train ensembles"
   ]
  },
  {
   "cell_type": "code",
   "execution_count": 2,
   "metadata": {},
   "outputs": [],
   "source": [
    "X_train, y_train, X_test, y_test, X_val, y_val = load_DeepSTARR_data('../data/DeepSTARR/Sequences_activity_all.h5')"
   ]
  },
  {
   "cell_type": "code",
   "execution_count": 3,
   "metadata": {},
   "outputs": [
    {
     "name": "stdout",
     "output_type": "stream",
     "text": [
      "getting distillation target values for ensemble of size n=2\n",
      "getting distillation target values for ensemble of size n=3\n",
      "getting distillation target values for ensemble of size n=4\n",
      "getting distillation target values for ensemble of size n=5\n",
      "getting distillation target values for ensemble of size n=10\n",
      "getting distillation target values for ensemble of size n=15\n",
      "getting distillation target values for ensemble of size n=20\n",
      "getting distillation target values for ensemble of size n=25\n"
     ]
    }
   ],
   "source": [
    "n_list = [2,3,4,5,10,15,20,25]\n",
    "for n in n_list:\n",
    "    print(f'getting distillation target values for ensemble of size n={n}')\n",
    "    # ensemble mean\n",
    "    ensemble_mean = np.load(f\"../results/DeepSTARR_ensemble_size/{n}mod_ensemble_avg_y_train.npy\")\n",
    "\n",
    "    # stdev\n",
    "    std_train = np.load(f\"../results/DeepSTARR_ensemble_size/{n}mod_ensemble_std_train.npy\")\n",
    "    std_test = np.load(f\"../results/DeepSTARR_ensemble_size/{n}mod_ensemble_std_test.npy\")\n",
    "    std_val = np.load(f\"../results/DeepSTARR_ensemble_size/{n}mod_ensemble_std_val.npy\")\n",
    "    \n",
    "    # write to .h5 file \n",
    "    with h5py.File(f'../data/DeepSTARR_ensemble_over_size/DeepSTARR_{n}mod_distillation_data_hierarchical.h5', 'w') as hf:\n",
    "        # write train data\n",
    "        train = hf.create_group(\"Train\")\n",
    "        train.create_dataset(\"X\", data = X_train)\n",
    "        train.create_dataset(\"y\", data=y_train)\n",
    "        train.create_dataset(\"ensemble_mean\", data = ensemble_mean)\n",
    "        train.create_dataset(\"std\", data=std_train)\n",
    "\n",
    "        # write test data\n",
    "        test = hf.create_group(\"Test\")\n",
    "        test.create_dataset(\"X\", data=X_test)\n",
    "        test.create_dataset(\"y\", data=y_test)\n",
    "        test.create_dataset(\"std\", data=std_test)\n",
    "\n",
    "        # write val data\n",
    "        val = hf.create_group(\"Val\")\n",
    "        val.create_dataset(\"X\", data=X_val)\n",
    "        val.create_dataset(\"y\", data=y_val)\n",
    "        val.create_dataset(\"std\", data=std_val)\n"
   ]
  },
  {
   "cell_type": "code",
   "execution_count": null,
   "metadata": {},
   "outputs": [],
   "source": []
  }
 ],
 "metadata": {
  "kernelspec": {
   "display_name": "tf2",
   "language": "python",
   "name": "python3"
  },
  "language_info": {
   "codemirror_mode": {
    "name": "ipython",
    "version": 3
   },
   "file_extension": ".py",
   "mimetype": "text/x-python",
   "name": "python",
   "nbconvert_exporter": "python",
   "pygments_lexer": "ipython3",
   "version": "3.9.18"
  }
 },
 "nbformat": 4,
 "nbformat_minor": 2
}
