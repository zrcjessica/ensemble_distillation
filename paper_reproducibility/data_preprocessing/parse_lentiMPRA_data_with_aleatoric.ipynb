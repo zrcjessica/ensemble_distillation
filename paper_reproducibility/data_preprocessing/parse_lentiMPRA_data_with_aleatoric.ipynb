{
 "cells": [
  {
   "cell_type": "markdown",
   "metadata": {},
   "source": [
    "Parse lentiMPRA data into format for modeling.\n",
    "\n",
    "Add the replicate-level standard deviation (aleatoric uncertainty) to this file, thereby removing samples with no standard deviation measurement.\n",
    "\n",
    "[Data source](https://www.biorxiv.org/content/10.1101/2023.03.05.531189v1.supplementary-material)\n",
    "- Sequences: Supplementary Table 3\n",
    "- Target values: Supplementary Table 4 (summary level data, mean column)"
   ]
  },
  {
   "cell_type": "code",
   "execution_count": 1,
   "metadata": {},
   "outputs": [],
   "source": [
    "import h5py \n",
    "import pandas as pd\n",
    "import numpy as np\n",
    "np.random.seed(1234)"
   ]
  },
  {
   "cell_type": "code",
   "execution_count": 2,
   "metadata": {},
   "outputs": [],
   "source": [
    "data_dir=\"../data/lentiMPRA\""
   ]
  },
  {
   "cell_type": "markdown",
   "metadata": {},
   "source": [
    "# HepG2\n",
    "## Load sequence data"
   ]
  },
  {
   "cell_type": "code",
   "execution_count": 3,
   "metadata": {},
   "outputs": [],
   "source": [
    "celltype='HepG2'"
   ]
  },
  {
   "cell_type": "code",
   "execution_count": 4,
   "metadata": {},
   "outputs": [],
   "source": [
    "seqs = pd.read_csv(f'{data_dir}/{celltype}_seqs.csv')"
   ]
  },
  {
   "cell_type": "code",
   "execution_count": 5,
   "metadata": {},
   "outputs": [
    {
     "data": {
      "text/html": [
       "<div>\n",
       "<style scoped>\n",
       "    .dataframe tbody tr th:only-of-type {\n",
       "        vertical-align: middle;\n",
       "    }\n",
       "\n",
       "    .dataframe tbody tr th {\n",
       "        vertical-align: top;\n",
       "    }\n",
       "\n",
       "    .dataframe thead th {\n",
       "        text-align: right;\n",
       "    }\n",
       "</style>\n",
       "<table border=\"1\" class=\"dataframe\">\n",
       "  <thead>\n",
       "    <tr style=\"text-align: right;\">\n",
       "      <th></th>\n",
       "      <th>name</th>\n",
       "      <th>category</th>\n",
       "      <th>chr.hg19</th>\n",
       "      <th>start.hg19</th>\n",
       "      <th>stop.hg19</th>\n",
       "      <th>str.hg19</th>\n",
       "      <th>chr.hg38</th>\n",
       "      <th>start.hg38</th>\n",
       "      <th>stop.hg38</th>\n",
       "      <th>str.hg38</th>\n",
       "      <th>230nt sequence (15nt 5' adaptor - 200nt element - 15nt 3' adaptor)</th>\n",
       "    </tr>\n",
       "  </thead>\n",
       "  <tbody>\n",
       "    <tr>\n",
       "      <th>0</th>\n",
       "      <td>DNasePeakNoPromoter1</td>\n",
       "      <td>putative enhancer</td>\n",
       "      <td>chr1</td>\n",
       "      <td>10410.0</td>\n",
       "      <td>10610.0</td>\n",
       "      <td>+</td>\n",
       "      <td>chr1</td>\n",
       "      <td>10410.0</td>\n",
       "      <td>10610.0</td>\n",
       "      <td>+</td>\n",
       "      <td>AGGACCGGATCAACTCCTAACCCTAACCCTAACCCTAACCCTAACC...</td>\n",
       "    </tr>\n",
       "    <tr>\n",
       "      <th>1</th>\n",
       "      <td>DNasePeakNoPromoter1_Reversed</td>\n",
       "      <td>putative enhancer</td>\n",
       "      <td>chr1</td>\n",
       "      <td>10410.0</td>\n",
       "      <td>10610.0</td>\n",
       "      <td>-</td>\n",
       "      <td>chr1</td>\n",
       "      <td>10410.0</td>\n",
       "      <td>10610.0</td>\n",
       "      <td>-</td>\n",
       "      <td>AGGACCGGATCAACTCGTTCTCCTCAGCACAGACCCGGAGAGCACC...</td>\n",
       "    </tr>\n",
       "    <tr>\n",
       "      <th>2</th>\n",
       "      <td>DNasePeakNoPromoter10</td>\n",
       "      <td>putative enhancer</td>\n",
       "      <td>chr1</td>\n",
       "      <td>941910.0</td>\n",
       "      <td>942110.0</td>\n",
       "      <td>+</td>\n",
       "      <td>chr1</td>\n",
       "      <td>1006530.0</td>\n",
       "      <td>1006730.0</td>\n",
       "      <td>+</td>\n",
       "      <td>AGGACCGGATCAACTTGTTTCTTAGGAAAGGCGGCCAACCCAGGGT...</td>\n",
       "    </tr>\n",
       "    <tr>\n",
       "      <th>3</th>\n",
       "      <td>DNasePeakNoPromoter10_Reversed</td>\n",
       "      <td>putative enhancer</td>\n",
       "      <td>chr1</td>\n",
       "      <td>941910.0</td>\n",
       "      <td>942110.0</td>\n",
       "      <td>-</td>\n",
       "      <td>chr1</td>\n",
       "      <td>1006530.0</td>\n",
       "      <td>1006730.0</td>\n",
       "      <td>-</td>\n",
       "      <td>AGGACCGGATCAACTGGTTAGAGCTCAAAGGTCACTCCGATGACAC...</td>\n",
       "    </tr>\n",
       "    <tr>\n",
       "      <th>4</th>\n",
       "      <td>DNasePeakNoPromoter100</td>\n",
       "      <td>putative enhancer</td>\n",
       "      <td>chr1</td>\n",
       "      <td>3135950.0</td>\n",
       "      <td>3136150.0</td>\n",
       "      <td>+</td>\n",
       "      <td>chr1</td>\n",
       "      <td>3219386.0</td>\n",
       "      <td>3219586.0</td>\n",
       "      <td>+</td>\n",
       "      <td>AGGACCGGATCAACTATTACTCACACAAGACACACATTGTCTGCCG...</td>\n",
       "    </tr>\n",
       "  </tbody>\n",
       "</table>\n",
       "</div>"
      ],
      "text/plain": [
       "                             name           category chr.hg19  start.hg19  \\\n",
       "0            DNasePeakNoPromoter1  putative enhancer     chr1     10410.0   \n",
       "1   DNasePeakNoPromoter1_Reversed  putative enhancer     chr1     10410.0   \n",
       "2           DNasePeakNoPromoter10  putative enhancer     chr1    941910.0   \n",
       "3  DNasePeakNoPromoter10_Reversed  putative enhancer     chr1    941910.0   \n",
       "4          DNasePeakNoPromoter100  putative enhancer     chr1   3135950.0   \n",
       "\n",
       "   stop.hg19 str.hg19 chr.hg38  start.hg38  stop.hg38 str.hg38  \\\n",
       "0    10610.0        +     chr1     10410.0    10610.0        +   \n",
       "1    10610.0        -     chr1     10410.0    10610.0        -   \n",
       "2   942110.0        +     chr1   1006530.0  1006730.0        +   \n",
       "3   942110.0        -     chr1   1006530.0  1006730.0        -   \n",
       "4  3136150.0        +     chr1   3219386.0  3219586.0        +   \n",
       "\n",
       "  230nt sequence (15nt 5' adaptor - 200nt element - 15nt 3' adaptor)  \n",
       "0  AGGACCGGATCAACTCCTAACCCTAACCCTAACCCTAACCCTAACC...                  \n",
       "1  AGGACCGGATCAACTCGTTCTCCTCAGCACAGACCCGGAGAGCACC...                  \n",
       "2  AGGACCGGATCAACTTGTTTCTTAGGAAAGGCGGCCAACCCAGGGT...                  \n",
       "3  AGGACCGGATCAACTGGTTAGAGCTCAAAGGTCACTCCGATGACAC...                  \n",
       "4  AGGACCGGATCAACTATTACTCACACAAGACACACATTGTCTGCCG...                  "
      ]
     },
     "execution_count": 5,
     "metadata": {},
     "output_type": "execute_result"
    }
   ],
   "source": [
    "seqs.head()"
   ]
  },
  {
   "cell_type": "markdown",
   "metadata": {},
   "source": [
    "## Load activity data"
   ]
  },
  {
   "cell_type": "code",
   "execution_count": 6,
   "metadata": {},
   "outputs": [],
   "source": [
    "activity = pd.read_csv(f'{data_dir}/{celltype}_data.csv')"
   ]
  },
  {
   "cell_type": "code",
   "execution_count": 7,
   "metadata": {},
   "outputs": [
    {
     "data": {
      "text/html": [
       "<div>\n",
       "<style scoped>\n",
       "    .dataframe tbody tr th:only-of-type {\n",
       "        vertical-align: middle;\n",
       "    }\n",
       "\n",
       "    .dataframe tbody tr th {\n",
       "        vertical-align: top;\n",
       "    }\n",
       "\n",
       "    .dataframe thead th {\n",
       "        text-align: right;\n",
       "    }\n",
       "</style>\n",
       "<table border=\"1\" class=\"dataframe\">\n",
       "  <thead>\n",
       "    <tr style=\"text-align: right;\">\n",
       "      <th></th>\n",
       "      <th>name</th>\n",
       "      <th>replicate 1 [log2(rna/dna)]</th>\n",
       "      <th>replicate 2 [log2(rna/dna)]</th>\n",
       "      <th>replicate 3 [log2(rna/dna)]</th>\n",
       "      <th>mean</th>\n",
       "      <th>std</th>\n",
       "    </tr>\n",
       "  </thead>\n",
       "  <tbody>\n",
       "    <tr>\n",
       "      <th>0</th>\n",
       "      <td>DNasePeakNoPromoter37009</td>\n",
       "      <td>-0.382</td>\n",
       "      <td>-0.717</td>\n",
       "      <td>-0.816</td>\n",
       "      <td>-0.638</td>\n",
       "      <td>0.227443</td>\n",
       "    </tr>\n",
       "    <tr>\n",
       "      <th>1</th>\n",
       "      <td>DNasePeakNoPromoter48063</td>\n",
       "      <td>-0.562</td>\n",
       "      <td>-0.421</td>\n",
       "      <td>-0.628</td>\n",
       "      <td>-0.537</td>\n",
       "      <td>0.105740</td>\n",
       "    </tr>\n",
       "    <tr>\n",
       "      <th>2</th>\n",
       "      <td>DNasePeakNoPromoter48864_Reversed</td>\n",
       "      <td>-0.922</td>\n",
       "      <td>-1.122</td>\n",
       "      <td>-1.023</td>\n",
       "      <td>-1.022</td>\n",
       "      <td>0.100002</td>\n",
       "    </tr>\n",
       "    <tr>\n",
       "      <th>3</th>\n",
       "      <td>DNasePeakNoPromoter47281_Reversed</td>\n",
       "      <td>-0.699</td>\n",
       "      <td>-0.742</td>\n",
       "      <td>-0.754</td>\n",
       "      <td>-0.732</td>\n",
       "      <td>0.028919</td>\n",
       "    </tr>\n",
       "    <tr>\n",
       "      <th>4</th>\n",
       "      <td>DNasePeakNoPromoter51319</td>\n",
       "      <td>-1.051</td>\n",
       "      <td>-0.931</td>\n",
       "      <td>-0.933</td>\n",
       "      <td>-0.972</td>\n",
       "      <td>0.068712</td>\n",
       "    </tr>\n",
       "  </tbody>\n",
       "</table>\n",
       "</div>"
      ],
      "text/plain": [
       "                                name  replicate 1 [log2(rna/dna)]  \\\n",
       "0           DNasePeakNoPromoter37009                       -0.382   \n",
       "1           DNasePeakNoPromoter48063                       -0.562   \n",
       "2  DNasePeakNoPromoter48864_Reversed                       -0.922   \n",
       "3  DNasePeakNoPromoter47281_Reversed                       -0.699   \n",
       "4           DNasePeakNoPromoter51319                       -1.051   \n",
       "\n",
       "   replicate 2 [log2(rna/dna)]  replicate 3 [log2(rna/dna)]   mean       std  \n",
       "0                       -0.717                       -0.816 -0.638  0.227443  \n",
       "1                       -0.421                       -0.628 -0.537  0.105740  \n",
       "2                       -1.122                       -1.023 -1.022  0.100002  \n",
       "3                       -0.742                       -0.754 -0.732  0.028919  \n",
       "4                       -0.931                       -0.933 -0.972  0.068712  "
      ]
     },
     "execution_count": 7,
     "metadata": {},
     "output_type": "execute_result"
    }
   ],
   "source": [
    "activity.head()"
   ]
  },
  {
   "cell_type": "code",
   "execution_count": 12,
   "metadata": {},
   "outputs": [
    {
     "data": {
      "text/plain": [
       "(139885, 6)"
      ]
     },
     "execution_count": 12,
     "metadata": {},
     "output_type": "execute_result"
    }
   ],
   "source": [
    "activity.shape"
   ]
  },
  {
   "cell_type": "markdown",
   "metadata": {},
   "source": [
    "Filter activity data for samples where std is not NA"
   ]
  },
  {
   "cell_type": "code",
   "execution_count": 13,
   "metadata": {},
   "outputs": [],
   "source": [
    "activity = activity[~activity['std'].isna()]"
   ]
  },
  {
   "cell_type": "code",
   "execution_count": 14,
   "metadata": {},
   "outputs": [
    {
     "data": {
      "text/plain": [
       "(139407, 6)"
      ]
     },
     "execution_count": 14,
     "metadata": {},
     "output_type": "execute_result"
    }
   ],
   "source": [
    "activity.shape"
   ]
  },
  {
   "cell_type": "markdown",
   "metadata": {},
   "source": [
    "Check to see if all sequences in activity data have a corresponding sequence."
   ]
  },
  {
   "cell_type": "code",
   "execution_count": 15,
   "metadata": {},
   "outputs": [
    {
     "data": {
      "text/plain": [
       "False"
      ]
     },
     "execution_count": 15,
     "metadata": {},
     "output_type": "execute_result"
    }
   ],
   "source": [
    "activity['name'].isin(seqs['name']).all()"
   ]
  },
  {
   "cell_type": "code",
   "execution_count": 16,
   "metadata": {},
   "outputs": [
    {
     "data": {
      "text/plain": [
       "(array([ 11657,  27645,  56147,  61862,  73984,  78685,  88118, 129778]),)"
      ]
     },
     "execution_count": 16,
     "metadata": {},
     "output_type": "execute_result"
    }
   ],
   "source": [
    "np.where(~activity['name'].isin(seqs['name']))"
   ]
  },
  {
   "cell_type": "code",
   "execution_count": 17,
   "metadata": {},
   "outputs": [
    {
     "data": {
      "text/html": [
       "<div>\n",
       "<style scoped>\n",
       "    .dataframe tbody tr th:only-of-type {\n",
       "        vertical-align: middle;\n",
       "    }\n",
       "\n",
       "    .dataframe tbody tr th {\n",
       "        vertical-align: top;\n",
       "    }\n",
       "\n",
       "    .dataframe thead th {\n",
       "        text-align: right;\n",
       "    }\n",
       "</style>\n",
       "<table border=\"1\" class=\"dataframe\">\n",
       "  <thead>\n",
       "    <tr style=\"text-align: right;\">\n",
       "      <th></th>\n",
       "      <th>name</th>\n",
       "      <th>replicate 1 [log2(rna/dna)]</th>\n",
       "      <th>replicate 2 [log2(rna/dna)]</th>\n",
       "      <th>replicate 3 [log2(rna/dna)]</th>\n",
       "      <th>mean</th>\n",
       "      <th>std</th>\n",
       "    </tr>\n",
       "  </thead>\n",
       "  <tbody>\n",
       "    <tr>\n",
       "      <th>11663</th>\n",
       "      <td>Cneg1_hg19chr3197439136-197439306__chr31974391...</td>\n",
       "      <td>0.166</td>\n",
       "      <td>-0.275</td>\n",
       "      <td>-0.196</td>\n",
       "      <td>-0.102</td>\n",
       "      <td>0.235147</td>\n",
       "    </tr>\n",
       "    <tr>\n",
       "      <th>27666</th>\n",
       "      <td>Cpos2_hg19chr1935531984-35532154__chr193553198...</td>\n",
       "      <td>1.487</td>\n",
       "      <td>1.484</td>\n",
       "      <td>1.509</td>\n",
       "      <td>1.493</td>\n",
       "      <td>0.013650</td>\n",
       "    </tr>\n",
       "    <tr>\n",
       "      <th>56190</th>\n",
       "      <td>Cpos1_mm9chr729161576-29161746__mm9chr19355319...</td>\n",
       "      <td>-1.473</td>\n",
       "      <td>-0.904</td>\n",
       "      <td>-0.837</td>\n",
       "      <td>-1.071</td>\n",
       "      <td>0.349463</td>\n",
       "    </tr>\n",
       "    <tr>\n",
       "      <th>61907</th>\n",
       "      <td>Cpos1_mm9chr729161576-29161746__mm9chr19355319...</td>\n",
       "      <td>-1.302</td>\n",
       "      <td>-1.447</td>\n",
       "      <td>-1.272</td>\n",
       "      <td>-1.341</td>\n",
       "      <td>0.093586</td>\n",
       "    </tr>\n",
       "    <tr>\n",
       "      <th>74031</th>\n",
       "      <td>Cneg2_hg19chr5172177153-172177323__chr51721771...</td>\n",
       "      <td>-0.918</td>\n",
       "      <td>-1.107</td>\n",
       "      <td>-0.815</td>\n",
       "      <td>-0.947</td>\n",
       "      <td>0.148096</td>\n",
       "    </tr>\n",
       "    <tr>\n",
       "      <th>78734</th>\n",
       "      <td>Cneg1_hg19chr3197439136-197439306__chr31974391...</td>\n",
       "      <td>-0.062</td>\n",
       "      <td>-0.221</td>\n",
       "      <td>-0.092</td>\n",
       "      <td>-0.125</td>\n",
       "      <td>0.084481</td>\n",
       "    </tr>\n",
       "    <tr>\n",
       "      <th>88170</th>\n",
       "      <td>Cpos2_hg19chr1935531984-35532154__chr193553198...</td>\n",
       "      <td>1.139</td>\n",
       "      <td>1.085</td>\n",
       "      <td>0.655</td>\n",
       "      <td>0.960</td>\n",
       "      <td>0.265227</td>\n",
       "    </tr>\n",
       "    <tr>\n",
       "      <th>129850</th>\n",
       "      <td>Cneg2_hg19chr5172177153-172177323__chr51721771...</td>\n",
       "      <td>-0.404</td>\n",
       "      <td>-0.265</td>\n",
       "      <td>-0.414</td>\n",
       "      <td>-0.361</td>\n",
       "      <td>0.083289</td>\n",
       "    </tr>\n",
       "  </tbody>\n",
       "</table>\n",
       "</div>"
      ],
      "text/plain": [
       "                                                     name  \\\n",
       "11663   Cneg1_hg19chr3197439136-197439306__chr31974391...   \n",
       "27666   Cpos2_hg19chr1935531984-35532154__chr193553198...   \n",
       "56190   Cpos1_mm9chr729161576-29161746__mm9chr19355319...   \n",
       "61907   Cpos1_mm9chr729161576-29161746__mm9chr19355319...   \n",
       "74031   Cneg2_hg19chr5172177153-172177323__chr51721771...   \n",
       "78734   Cneg1_hg19chr3197439136-197439306__chr31974391...   \n",
       "88170   Cpos2_hg19chr1935531984-35532154__chr193553198...   \n",
       "129850  Cneg2_hg19chr5172177153-172177323__chr51721771...   \n",
       "\n",
       "        replicate 1 [log2(rna/dna)]  replicate 2 [log2(rna/dna)]  \\\n",
       "11663                         0.166                       -0.275   \n",
       "27666                         1.487                        1.484   \n",
       "56190                        -1.473                       -0.904   \n",
       "61907                        -1.302                       -1.447   \n",
       "74031                        -0.918                       -1.107   \n",
       "78734                        -0.062                       -0.221   \n",
       "88170                         1.139                        1.085   \n",
       "129850                       -0.404                       -0.265   \n",
       "\n",
       "        replicate 3 [log2(rna/dna)]   mean       std  \n",
       "11663                        -0.196 -0.102  0.235147  \n",
       "27666                         1.509  1.493  0.013650  \n",
       "56190                        -0.837 -1.071  0.349463  \n",
       "61907                        -1.272 -1.341  0.093586  \n",
       "74031                        -0.815 -0.947  0.148096  \n",
       "78734                        -0.092 -0.125  0.084481  \n",
       "88170                         0.655  0.960  0.265227  \n",
       "129850                       -0.414 -0.361  0.083289  "
      ]
     },
     "execution_count": 17,
     "metadata": {},
     "output_type": "execute_result"
    }
   ],
   "source": [
    "activity.iloc[np.where(~activity['name'].isin(seqs['name']))[0],:]"
   ]
  },
  {
   "cell_type": "markdown",
   "metadata": {},
   "source": [
    "Throw out these values."
   ]
  },
  {
   "cell_type": "code",
   "execution_count": 18,
   "metadata": {},
   "outputs": [],
   "source": [
    "activity = activity[activity['name'].isin(seqs['name'])]"
   ]
  },
  {
   "cell_type": "code",
   "execution_count": 19,
   "metadata": {},
   "outputs": [
    {
     "data": {
      "text/plain": [
       "(139399, 6)"
      ]
     },
     "execution_count": 19,
     "metadata": {},
     "output_type": "execute_result"
    }
   ],
   "source": [
    "activity.shape"
   ]
  },
  {
   "cell_type": "markdown",
   "metadata": {},
   "source": [
    "Which sequences remaining in `activity` are `_Reversed` seqs?"
   ]
  },
  {
   "cell_type": "code",
   "execution_count": 20,
   "metadata": {},
   "outputs": [],
   "source": [
    "rev_seqs = activity['name'][activity['name'].str.contains('Reversed')]"
   ]
  },
  {
   "cell_type": "code",
   "execution_count": 21,
   "metadata": {},
   "outputs": [
    {
     "data": {
      "text/plain": [
       "(67215,)"
      ]
     },
     "execution_count": 21,
     "metadata": {},
     "output_type": "execute_result"
    }
   ],
   "source": [
    "rev_seqs.shape"
   ]
  },
  {
   "cell_type": "code",
   "execution_count": 22,
   "metadata": {},
   "outputs": [
    {
     "data": {
      "text/plain": [
       "153"
      ]
     },
     "execution_count": 22,
     "metadata": {},
     "output_type": "execute_result"
    }
   ],
   "source": [
    "rev_seqs.str.contains('_Reversed_0').sum()"
   ]
  },
  {
   "cell_type": "markdown",
   "metadata": {},
   "source": [
    "Get their corresponding forward names"
   ]
  },
  {
   "cell_type": "code",
   "execution_count": 23,
   "metadata": {},
   "outputs": [],
   "source": [
    "fwd_seqs = rev_seqs.copy()"
   ]
  },
  {
   "cell_type": "code",
   "execution_count": 29,
   "metadata": {},
   "outputs": [],
   "source": [
    "# strip _Reversed_0 pattern\n",
    "fwd_seqs[fwd_seqs.str.contains('_Reversed_0')] = fwd_seqs[fwd_seqs.str.contains('_Reversed_0')].str.strip('_Reversed_0')\n",
    "# strip _Reversed pattern\n",
    "fwd_seqs[fwd_seqs.str.contains('_Reversed')] = fwd_seqs[fwd_seqs.str.contains('_Reversed')].str.strip('_Reversed')"
   ]
  },
  {
   "cell_type": "code",
   "execution_count": 30,
   "metadata": {},
   "outputs": [
    {
     "data": {
      "text/plain": [
       "(67215,)"
      ]
     },
     "execution_count": 30,
     "metadata": {},
     "output_type": "execute_result"
    }
   ],
   "source": [
    "fwd_seqs.shape"
   ]
  },
  {
   "cell_type": "code",
   "execution_count": 31,
   "metadata": {},
   "outputs": [
    {
     "data": {
      "text/plain": [
       "False"
      ]
     },
     "execution_count": 31,
     "metadata": {},
     "output_type": "execute_result"
    }
   ],
   "source": [
    "# sanity check\n",
    "fwd_seqs.duplicated().any()"
   ]
  },
  {
   "cell_type": "markdown",
   "metadata": {},
   "source": [
    "Are all of these in `activity`?"
   ]
  },
  {
   "cell_type": "code",
   "execution_count": 27,
   "metadata": {},
   "outputs": [
    {
     "data": {
      "text/plain": [
       "False"
      ]
     },
     "execution_count": 27,
     "metadata": {},
     "output_type": "execute_result"
    }
   ],
   "source": [
    "fwd_seqs.isin(activity['name']).all()"
   ]
  },
  {
   "cell_type": "markdown",
   "metadata": {},
   "source": [
    "How many of the reversed seqs don't have their complementary fwd strand in the `activity` dataframe?"
   ]
  },
  {
   "cell_type": "code",
   "execution_count": 28,
   "metadata": {},
   "outputs": [
    {
     "data": {
      "text/plain": [
       "5962"
      ]
     },
     "execution_count": 28,
     "metadata": {},
     "output_type": "execute_result"
    }
   ],
   "source": [
    "(~fwd_seqs.isin(activity['name'])).sum()"
   ]
  },
  {
   "cell_type": "markdown",
   "metadata": {},
   "source": [
    "Record the complementary fwd seqs with activity data."
   ]
  },
  {
   "cell_type": "code",
   "execution_count": 32,
   "metadata": {},
   "outputs": [
    {
     "data": {
      "text/plain": [
       "(61253,)"
      ]
     },
     "execution_count": 32,
     "metadata": {},
     "output_type": "execute_result"
    }
   ],
   "source": [
    "comp_fwd_seqs = fwd_seqs[fwd_seqs.isin(activity['name'])]\n",
    "comp_fwd_seqs.shape"
   ]
  },
  {
   "cell_type": "code",
   "execution_count": 33,
   "metadata": {},
   "outputs": [
    {
     "data": {
      "text/plain": [
       "False"
      ]
     },
     "execution_count": 33,
     "metadata": {},
     "output_type": "execute_result"
    }
   ],
   "source": [
    "comp_fwd_seqs.duplicated().any()"
   ]
  },
  {
   "cell_type": "markdown",
   "metadata": {},
   "source": [
    "Which of the seqs in `rev_seqs` have a complementary fwd seq with activity data?"
   ]
  },
  {
   "cell_type": "code",
   "execution_count": 34,
   "metadata": {},
   "outputs": [],
   "source": [
    "rev_seqs_with_fwd = rev_seqs[fwd_seqs.isin(comp_fwd_seqs)]"
   ]
  },
  {
   "cell_type": "code",
   "execution_count": 35,
   "metadata": {},
   "outputs": [],
   "source": [
    "# sanity checks\n",
    "assert(rev_seqs_with_fwd.str.strip('_Reversed').isin(comp_fwd_seqs).all())\n",
    "assert(rev_seqs_with_fwd.shape[0] == comp_fwd_seqs.shape[0])"
   ]
  },
  {
   "cell_type": "markdown",
   "metadata": {},
   "source": [
    "Create a mapper for fwd/rev seqs with activity data."
   ]
  },
  {
   "cell_type": "code",
   "execution_count": 36,
   "metadata": {},
   "outputs": [],
   "source": [
    "fwd_rev_dict = dict(zip(comp_fwd_seqs, rev_seqs_with_fwd))"
   ]
  },
  {
   "cell_type": "markdown",
   "metadata": {},
   "source": [
    "What are the remaining sequences that aren't part of a fwd/rev pair? "
   ]
  },
  {
   "cell_type": "code",
   "execution_count": 37,
   "metadata": {},
   "outputs": [
    {
     "data": {
      "text/plain": [
       "16893"
      ]
     },
     "execution_count": 37,
     "metadata": {},
     "output_type": "execute_result"
    }
   ],
   "source": [
    "# expected amount\n",
    "activity.shape[0] - rev_seqs_with_fwd.shape[0] - comp_fwd_seqs.shape[0]"
   ]
  },
  {
   "cell_type": "code",
   "execution_count": 38,
   "metadata": {},
   "outputs": [],
   "source": [
    "# get logical mask for selecting remaining seqs\n",
    "mask = (~activity['name'].isin(comp_fwd_seqs)) & (~activity['name'].isin(rev_seqs_with_fwd))"
   ]
  },
  {
   "cell_type": "code",
   "execution_count": 39,
   "metadata": {},
   "outputs": [],
   "source": [
    "# sanity check\n",
    "assert(mask.sum()==activity.shape[0] - rev_seqs_with_fwd.shape[0] - comp_fwd_seqs.shape[0])"
   ]
  },
  {
   "cell_type": "code",
   "execution_count": 40,
   "metadata": {},
   "outputs": [],
   "source": [
    "# filter seqs\n",
    "other_seqs = activity['name'][mask]"
   ]
  },
  {
   "cell_type": "code",
   "execution_count": 41,
   "metadata": {},
   "outputs": [],
   "source": [
    "# sanity checks\n",
    "assert(other_seqs.isin(activity['name']).all())\n",
    "assert((other_seqs.shape[0] + rev_seqs_with_fwd.shape[0] + comp_fwd_seqs.shape[0]) == activity.shape[0])"
   ]
  },
  {
   "cell_type": "markdown",
   "metadata": {},
   "source": [
    "Summarise the data visually"
   ]
  },
  {
   "cell_type": "code",
   "execution_count": 42,
   "metadata": {},
   "outputs": [
    {
     "data": {
      "text/plain": [
       "<Axes: >"
      ]
     },
     "execution_count": 42,
     "metadata": {},
     "output_type": "execute_result"
    },
    {
     "data": {
      "image/png": "[encoded data removed]",
      "text/plain": [
       "<Figure size 640x480 with 1 Axes>"
      ]
     },
     "metadata": {},
     "output_type": "display_data"
    }
   ],
   "source": [
    "pd.DataFrame.from_dict({'fwd/rev pair':comp_fwd_seqs.shape[0]*2, 'other':other_seqs.shape[0]},\n",
    "                       orient='index').T.plot.barh(stacked=True, legend=True)"
   ]
  },
  {
   "cell_type": "markdown",
   "metadata": {},
   "source": [
    "Turn `seqs` into a dict that maps the name to the sequence."
   ]
  },
  {
   "cell_type": "code",
   "execution_count": 43,
   "metadata": {},
   "outputs": [],
   "source": [
    "seq_mapper = dict(zip(seqs['name'], seqs.iloc[:,-1]))"
   ]
  },
  {
   "cell_type": "markdown",
   "metadata": {},
   "source": [
    "Create a dict that maps seqnames to mean and std of activity"
   ]
  },
  {
   "cell_type": "code",
   "execution_count": 46,
   "metadata": {},
   "outputs": [],
   "source": [
    "activity_mapper = dict(zip(activity['name'], activity['mean']))\n",
    "std_mapper = dict(zip(activity['name'], activity['std']))\n",
    "\n",
    "# sanity check\n",
    "assert(len(activity_mapper.keys())==len(std_mapper.keys()))\n",
    "assert(activity_mapper.keys()==std_mapper.keys())"
   ]
  },
  {
   "cell_type": "markdown",
   "metadata": {},
   "source": [
    "Code for one hot encoding sequences (will save one-hot encoded seqs in h5 file)"
   ]
  },
  {
   "cell_type": "code",
   "execution_count": 47,
   "metadata": {},
   "outputs": [],
   "source": [
    "# define a dictionary to map nucleotides to their one-hot encoded representation\n",
    "nucleotide_dict = {'A': [1.0, 0, 0, 0],\n",
    "                   'C': [0, 1.0, 0, 0],\n",
    "                   'G': [0, 0, 1.0, 0],\n",
    "                   'T': [0, 0, 0, 1.0],\n",
    "                   'N': [0, 0, 0, 0]} # sometimes there are Ns\n",
    "\n",
    "# write function for one hot encoding a DNA sequence\n",
    "def one_hot_encode(seq):\n",
    "    return [nucleotide_dict[base] for base in seq]"
   ]
  },
  {
   "cell_type": "markdown",
   "metadata": {},
   "source": [
    "## Come up with train/test/val splits\n",
    "80/10/10"
   ]
  },
  {
   "cell_type": "markdown",
   "metadata": {},
   "source": [
    "### Train"
   ]
  },
  {
   "cell_type": "code",
   "execution_count": 48,
   "metadata": {},
   "outputs": [],
   "source": [
    "# get fwd/rev pairs in train set\n",
    "train_fwd_seqnames_ix = np.random.choice(np.arange(comp_fwd_seqs.shape[0]), round(comp_fwd_seqs.shape[0]*0.8), replace=False)\n",
    "train_fwd_seqnames = comp_fwd_seqs.iloc[train_fwd_seqnames_ix].tolist()\n",
    "train_rev_seqnames = [fwd_rev_dict[x] for x in train_fwd_seqnames]"
   ]
  },
  {
   "cell_type": "code",
   "execution_count": 49,
   "metadata": {},
   "outputs": [],
   "source": [
    "# get other seqs in train set\n",
    "train_other_seqnames_ix = np.random.choice(np.arange(other_seqs.shape[0]), round(other_seqs.shape[0]*0.8), replace=False)\n",
    "train_other_seqnames = other_seqs.iloc[train_other_seqnames_ix].tolist()"
   ]
  },
  {
   "cell_type": "code",
   "execution_count": 50,
   "metadata": {},
   "outputs": [
    {
     "data": {
      "text/plain": [
       "111518"
      ]
     },
     "execution_count": 50,
     "metadata": {},
     "output_type": "execute_result"
    }
   ],
   "source": [
    "# total train seqs\n",
    "len(train_rev_seqnames) + len(train_fwd_seqnames) + len(train_other_seqnames)"
   ]
  },
  {
   "cell_type": "code",
   "execution_count": 51,
   "metadata": {},
   "outputs": [],
   "source": [
    "# combine all train seqnames into a list\n",
    "all_train_seqnames = train_fwd_seqnames + train_rev_seqnames + train_other_seqnames"
   ]
  },
  {
   "cell_type": "markdown",
   "metadata": {},
   "source": [
    "Get numpy arrays representing `X_train` and `y_train`"
   ]
  },
  {
   "cell_type": "code",
   "execution_count": 52,
   "metadata": {},
   "outputs": [],
   "source": [
    "X_train = np.array([one_hot_encode(seq_mapper[x]) for x in all_train_seqnames])"
   ]
  },
  {
   "cell_type": "code",
   "execution_count": 62,
   "metadata": {},
   "outputs": [
    {
     "data": {
      "text/plain": [
       "array([[ 0.599     ,  0.14105791],\n",
       "       [-0.774     ,  0.13159027],\n",
       "       [-1.17      ,  0.25512938],\n",
       "       ...,\n",
       "       [ 0.04      ,  0.0971099 ],\n",
       "       [ 0.171     ,  0.07800214],\n",
       "       [ 0.793     ,  0.1303572 ]])"
      ]
     },
     "execution_count": 62,
     "metadata": {},
     "output_type": "execute_result"
    }
   ],
   "source": [
    "y_train = np.array([[activity_mapper[x], std_mapper[x]] for x in all_train_seqnames])\n",
    "y_train"
   ]
  },
  {
   "cell_type": "markdown",
   "metadata": {},
   "source": [
    "### Test"
   ]
  },
  {
   "cell_type": "code",
   "execution_count": 63,
   "metadata": {},
   "outputs": [],
   "source": [
    "# ix to pick from\n",
    "test_fwd_options = np.setdiff1d(np.arange(comp_fwd_seqs.shape[0]), train_fwd_seqnames_ix)"
   ]
  },
  {
   "cell_type": "code",
   "execution_count": 64,
   "metadata": {},
   "outputs": [],
   "source": [
    "test_fwd_seqnames_ix = np.random.choice(test_fwd_options, round(comp_fwd_seqs.shape[0]*0.1), replace=False)\n",
    "test_fwd_seqnames = comp_fwd_seqs.iloc[test_fwd_seqnames_ix].tolist()\n",
    "test_rev_seqnames = [fwd_rev_dict[x] for x in test_fwd_seqnames]"
   ]
  },
  {
   "cell_type": "code",
   "execution_count": 65,
   "metadata": {},
   "outputs": [],
   "source": [
    "# ix to pick from\n",
    "test_other_options = np.setdiff1d(np.arange(other_seqs.shape[0]), train_other_seqnames_ix)"
   ]
  },
  {
   "cell_type": "code",
   "execution_count": 66,
   "metadata": {},
   "outputs": [],
   "source": [
    "# get other seqs in test set\n",
    "test_other_seqnames_ix = np.random.choice(test_other_options, round(other_seqs.shape[0]*0.1), replace=False)\n",
    "test_other_seqnames = other_seqs.iloc[test_other_seqnames_ix].tolist()"
   ]
  },
  {
   "cell_type": "code",
   "execution_count": 67,
   "metadata": {},
   "outputs": [
    {
     "data": {
      "text/plain": [
       "13939"
      ]
     },
     "execution_count": 67,
     "metadata": {},
     "output_type": "execute_result"
    }
   ],
   "source": [
    "# combine all test seqnames in a list\n",
    "all_test_seqnames = test_fwd_seqnames + test_rev_seqnames + test_other_seqnames\n",
    "\n",
    "# how many seqs total?\n",
    "len(all_test_seqnames)"
   ]
  },
  {
   "cell_type": "markdown",
   "metadata": {},
   "source": [
    "Get numpy arrays representing `X_test` and `y_test`"
   ]
  },
  {
   "cell_type": "code",
   "execution_count": 69,
   "metadata": {},
   "outputs": [],
   "source": [
    "X_test = np.array([one_hot_encode(seq_mapper[x]) for x in all_test_seqnames])\n",
    "y_test = np.array([[activity_mapper[x], std_mapper[x]] for x in all_test_seqnames])"
   ]
  },
  {
   "cell_type": "markdown",
   "metadata": {},
   "source": [
    "### Val"
   ]
  },
  {
   "cell_type": "code",
   "execution_count": 70,
   "metadata": {},
   "outputs": [],
   "source": [
    "# pick fwd/rev seqs\n",
    "val_fwd_seqnames_ix = np.setdiff1d(test_fwd_options, test_fwd_seqnames_ix)\n",
    "val_fwd_seqnames = comp_fwd_seqs.iloc[val_fwd_seqnames_ix].tolist()\n",
    "val_rev_seqnames = [fwd_rev_dict[x] for x in val_fwd_seqnames]"
   ]
  },
  {
   "cell_type": "code",
   "execution_count": 71,
   "metadata": {},
   "outputs": [],
   "source": [
    "# pick other seqs \n",
    "val_other_seqnames_ix = np.setdiff1d(test_other_options, test_other_seqnames_ix)\n",
    "val_other_seqnames = other_seqs.iloc[val_other_seqnames_ix].tolist()"
   ]
  },
  {
   "cell_type": "code",
   "execution_count": 72,
   "metadata": {},
   "outputs": [
    {
     "data": {
      "text/plain": [
       "13942"
      ]
     },
     "execution_count": 72,
     "metadata": {},
     "output_type": "execute_result"
    }
   ],
   "source": [
    "# combine all val seqnames in a list\n",
    "all_val_seqnames = val_fwd_seqnames + val_rev_seqnames + val_other_seqnames\n",
    "\n",
    "# how many seqs total?\n",
    "len(all_val_seqnames)"
   ]
  },
  {
   "cell_type": "code",
   "execution_count": 73,
   "metadata": {},
   "outputs": [
    {
     "data": {
      "text/plain": [
       "True"
      ]
     },
     "execution_count": 73,
     "metadata": {},
     "output_type": "execute_result"
    }
   ],
   "source": [
    "# sanity check - make sure all seqs in activity dataframe are accounted for\n",
    "len(set(all_val_seqnames + all_test_seqnames + all_train_seqnames)) == activity.shape[0]"
   ]
  },
  {
   "cell_type": "markdown",
   "metadata": {},
   "source": [
    "Get numpy arrays for `X_val` and `y_val`"
   ]
  },
  {
   "cell_type": "code",
   "execution_count": 74,
   "metadata": {},
   "outputs": [],
   "source": [
    "X_val = np.array([one_hot_encode(seq_mapper[x]) for x in all_val_seqnames])\n",
    "y_val = np.array([[activity_mapper[x], std_mapper[x]] for x in all_val_seqnames])"
   ]
  },
  {
   "cell_type": "markdown",
   "metadata": {},
   "source": [
    "## Write data to h5 file"
   ]
  },
  {
   "cell_type": "code",
   "execution_count": 81,
   "metadata": {},
   "outputs": [],
   "source": [
    "with h5py.File(f\"{data_dir}/{celltype}_data_with_aleatoric.h5\", 'w') as file:\n",
    "    # train\n",
    "    train = file.create_group(\"Train\")\n",
    "    train.create_dataset('X', data=X_train)\n",
    "    train.create_dataset('y', data=y_train)\n",
    "\n",
    "    # test \n",
    "    test = file.create_group('Test')\n",
    "    test.create_dataset('X', data=X_test)\n",
    "    test.create_dataset('y', data=y_test)\n",
    "\n",
    "    # val\n",
    "    val = file.create_group('Val')\n",
    "    val.create_dataset('X', data = X_val)\n",
    "    val.create_dataset('y', data=y_val)\n"
   ]
  },
  {
   "cell_type": "markdown",
   "metadata": {},
   "source": [
    "# K562"
   ]
  },
  {
   "cell_type": "code",
   "execution_count": 89,
   "metadata": {},
   "outputs": [],
   "source": [
    "celltype='K562'"
   ]
  },
  {
   "cell_type": "markdown",
   "metadata": {},
   "source": [
    "## Load sequence data"
   ]
  },
  {
   "cell_type": "code",
   "execution_count": 90,
   "metadata": {},
   "outputs": [],
   "source": [
    "seqs = pd.read_csv(f'{data_dir}/{celltype}_seqs.csv')"
   ]
  },
  {
   "cell_type": "code",
   "execution_count": 91,
   "metadata": {},
   "outputs": [
    {
     "data": {
      "text/html": [
       "<div>\n",
       "<style scoped>\n",
       "    .dataframe tbody tr th:only-of-type {\n",
       "        vertical-align: middle;\n",
       "    }\n",
       "\n",
       "    .dataframe tbody tr th {\n",
       "        vertical-align: top;\n",
       "    }\n",
       "\n",
       "    .dataframe thead th {\n",
       "        text-align: right;\n",
       "    }\n",
       "</style>\n",
       "<table border=\"1\" class=\"dataframe\">\n",
       "  <thead>\n",
       "    <tr style=\"text-align: right;\">\n",
       "      <th></th>\n",
       "      <th>name</th>\n",
       "      <th>category</th>\n",
       "      <th>chr.hg38</th>\n",
       "      <th>start.hg38</th>\n",
       "      <th>stop.hg38</th>\n",
       "      <th>str.hg38</th>\n",
       "      <th>230nt sequence (15nt 5' adaptor - 200nt element - 15nt 3' adaptor)</th>\n",
       "    </tr>\n",
       "  </thead>\n",
       "  <tbody>\n",
       "    <tr>\n",
       "      <th>0</th>\n",
       "      <td>peak1</td>\n",
       "      <td>putative enhancer</td>\n",
       "      <td>chr1</td>\n",
       "      <td>115631.0</td>\n",
       "      <td>115831.0</td>\n",
       "      <td>+</td>\n",
       "      <td>AGGACCGGATCAACTGAGCCGGGTCATGAAAAAGGGGATCTTGTGT...</td>\n",
       "    </tr>\n",
       "    <tr>\n",
       "      <th>1</th>\n",
       "      <td>peak1_Reversed</td>\n",
       "      <td>putative enhancer</td>\n",
       "      <td>chr1</td>\n",
       "      <td>115631.0</td>\n",
       "      <td>115831.0</td>\n",
       "      <td>-</td>\n",
       "      <td>AGGACCGGATCAACTTCTTGTGAGGGTGGCTTATCTGAAATGCTGC...</td>\n",
       "    </tr>\n",
       "    <tr>\n",
       "      <th>2</th>\n",
       "      <td>peak10</td>\n",
       "      <td>putative enhancer</td>\n",
       "      <td>chr1</td>\n",
       "      <td>634309.0</td>\n",
       "      <td>634509.0</td>\n",
       "      <td>+</td>\n",
       "      <td>AGGACCGGATCAACTTGTCGCCTTAATCCAAGCCTACGTTTTTACA...</td>\n",
       "    </tr>\n",
       "    <tr>\n",
       "      <th>3</th>\n",
       "      <td>peak10_Reversed</td>\n",
       "      <td>putative enhancer</td>\n",
       "      <td>chr1</td>\n",
       "      <td>634309.0</td>\n",
       "      <td>634509.0</td>\n",
       "      <td>-</td>\n",
       "      <td>AGGACCGGATCAACTAGTATGAGGAGGGTTGTGGAGTGGAAGTGAA...</td>\n",
       "    </tr>\n",
       "    <tr>\n",
       "      <th>4</th>\n",
       "      <td>peak100</td>\n",
       "      <td>putative enhancer</td>\n",
       "      <td>chr1</td>\n",
       "      <td>2133494.0</td>\n",
       "      <td>2133694.0</td>\n",
       "      <td>+</td>\n",
       "      <td>AGGACCGGATCAACTCCCCTCCCCAGCTGTGCGCCCGCCCCTTGGT...</td>\n",
       "    </tr>\n",
       "  </tbody>\n",
       "</table>\n",
       "</div>"
      ],
      "text/plain": [
       "              name           category chr.hg38  start.hg38  stop.hg38  \\\n",
       "0            peak1  putative enhancer     chr1    115631.0   115831.0   \n",
       "1   peak1_Reversed  putative enhancer     chr1    115631.0   115831.0   \n",
       "2           peak10  putative enhancer     chr1    634309.0   634509.0   \n",
       "3  peak10_Reversed  putative enhancer     chr1    634309.0   634509.0   \n",
       "4          peak100  putative enhancer     chr1   2133494.0  2133694.0   \n",
       "\n",
       "  str.hg38 230nt sequence (15nt 5' adaptor - 200nt element - 15nt 3' adaptor)  \n",
       "0        +  AGGACCGGATCAACTGAGCCGGGTCATGAAAAAGGGGATCTTGTGT...                  \n",
       "1        -  AGGACCGGATCAACTTCTTGTGAGGGTGGCTTATCTGAAATGCTGC...                  \n",
       "2        +  AGGACCGGATCAACTTGTCGCCTTAATCCAAGCCTACGTTTTTACA...                  \n",
       "3        -  AGGACCGGATCAACTAGTATGAGGAGGGTTGTGGAGTGGAAGTGAA...                  \n",
       "4        +  AGGACCGGATCAACTCCCCTCCCCAGCTGTGCGCCCGCCCCTTGGT...                  "
      ]
     },
     "execution_count": 91,
     "metadata": {},
     "output_type": "execute_result"
    }
   ],
   "source": [
    "seqs.head()"
   ]
  },
  {
   "cell_type": "code",
   "execution_count": 92,
   "metadata": {},
   "outputs": [
    {
     "data": {
      "text/plain": [
       "(243780, 7)"
      ]
     },
     "execution_count": 92,
     "metadata": {},
     "output_type": "execute_result"
    }
   ],
   "source": [
    "seqs.shape"
   ]
  },
  {
   "cell_type": "markdown",
   "metadata": {},
   "source": [
    "## Load activity data"
   ]
  },
  {
   "cell_type": "code",
   "execution_count": 93,
   "metadata": {},
   "outputs": [],
   "source": [
    "activity = pd.read_csv(f'{data_dir}/{celltype}_data.csv')"
   ]
  },
  {
   "cell_type": "code",
   "execution_count": 94,
   "metadata": {},
   "outputs": [
    {
     "data": {
      "text/html": [
       "<div>\n",
       "<style scoped>\n",
       "    .dataframe tbody tr th:only-of-type {\n",
       "        vertical-align: middle;\n",
       "    }\n",
       "\n",
       "    .dataframe tbody tr th {\n",
       "        vertical-align: top;\n",
       "    }\n",
       "\n",
       "    .dataframe thead th {\n",
       "        text-align: right;\n",
       "    }\n",
       "</style>\n",
       "<table border=\"1\" class=\"dataframe\">\n",
       "  <thead>\n",
       "    <tr style=\"text-align: right;\">\n",
       "      <th></th>\n",
       "      <th>name</th>\n",
       "      <th>replicate 1 [log2(rna/dna)]</th>\n",
       "      <th>replicate 2 [log2(rna/dna)]</th>\n",
       "      <th>replicate 3 [log2(rna/dna)]</th>\n",
       "      <th>mean</th>\n",
       "      <th>std</th>\n",
       "    </tr>\n",
       "  </thead>\n",
       "  <tbody>\n",
       "    <tr>\n",
       "      <th>0</th>\n",
       "      <td>peak29573_Reversed</td>\n",
       "      <td>-0.190</td>\n",
       "      <td>0.225</td>\n",
       "      <td>0.201</td>\n",
       "      <td>0.079</td>\n",
       "      <td>0.232981</td>\n",
       "    </tr>\n",
       "    <tr>\n",
       "      <th>1</th>\n",
       "      <td>peak71109_Reversed</td>\n",
       "      <td>0.650</td>\n",
       "      <td>0.454</td>\n",
       "      <td>0.758</td>\n",
       "      <td>0.620</td>\n",
       "      <td>0.154108</td>\n",
       "    </tr>\n",
       "    <tr>\n",
       "      <th>2</th>\n",
       "      <td>ENSG00000123569</td>\n",
       "      <td>-0.762</td>\n",
       "      <td>-0.578</td>\n",
       "      <td>-0.228</td>\n",
       "      <td>-0.523</td>\n",
       "      <td>0.271266</td>\n",
       "    </tr>\n",
       "    <tr>\n",
       "      <th>3</th>\n",
       "      <td>peak25742_Reversed</td>\n",
       "      <td>-0.511</td>\n",
       "      <td>-0.644</td>\n",
       "      <td>-0.154</td>\n",
       "      <td>-0.436</td>\n",
       "      <td>0.253390</td>\n",
       "    </tr>\n",
       "    <tr>\n",
       "      <th>4</th>\n",
       "      <td>peak83398</td>\n",
       "      <td>-0.154</td>\n",
       "      <td>-0.298</td>\n",
       "      <td>0.103</td>\n",
       "      <td>-0.116</td>\n",
       "      <td>0.203136</td>\n",
       "    </tr>\n",
       "  </tbody>\n",
       "</table>\n",
       "</div>"
      ],
      "text/plain": [
       "                 name  replicate 1 [log2(rna/dna)]  \\\n",
       "0  peak29573_Reversed                       -0.190   \n",
       "1  peak71109_Reversed                        0.650   \n",
       "2     ENSG00000123569                       -0.762   \n",
       "3  peak25742_Reversed                       -0.511   \n",
       "4           peak83398                       -0.154   \n",
       "\n",
       "   replicate 2 [log2(rna/dna)]  replicate 3 [log2(rna/dna)]   mean       std  \n",
       "0                        0.225                        0.201  0.079  0.232981  \n",
       "1                        0.454                        0.758  0.620  0.154108  \n",
       "2                       -0.578                       -0.228 -0.523  0.271266  \n",
       "3                       -0.644                       -0.154 -0.436  0.253390  \n",
       "4                       -0.298                        0.103 -0.116  0.203136  "
      ]
     },
     "execution_count": 94,
     "metadata": {},
     "output_type": "execute_result"
    }
   ],
   "source": [
    "activity.head()"
   ]
  },
  {
   "cell_type": "code",
   "execution_count": 95,
   "metadata": {},
   "outputs": [
    {
     "data": {
      "text/plain": [
       "(226254, 6)"
      ]
     },
     "execution_count": 95,
     "metadata": {},
     "output_type": "execute_result"
    }
   ],
   "source": [
    "activity.shape"
   ]
  },
  {
   "cell_type": "markdown",
   "metadata": {},
   "source": [
    "Filter activity data for samples where std is not NA"
   ]
  },
  {
   "cell_type": "code",
   "execution_count": 96,
   "metadata": {},
   "outputs": [
    {
     "data": {
      "text/plain": [
       "(225705, 6)"
      ]
     },
     "execution_count": 96,
     "metadata": {},
     "output_type": "execute_result"
    }
   ],
   "source": [
    "activity = activity[~activity['std'].isna()]\n",
    "activity.shape"
   ]
  },
  {
   "cell_type": "markdown",
   "metadata": {},
   "source": [
    "Check to see if all sequences in activity data have a corresponding sequence."
   ]
  },
  {
   "cell_type": "code",
   "execution_count": 97,
   "metadata": {},
   "outputs": [
    {
     "data": {
      "text/plain": [
       "True"
      ]
     },
     "execution_count": 97,
     "metadata": {},
     "output_type": "execute_result"
    }
   ],
   "source": [
    "activity['name'].isin(seqs['name']).all()"
   ]
  },
  {
   "cell_type": "markdown",
   "metadata": {},
   "source": [
    "Get reverse seqs in activity dataframe."
   ]
  },
  {
   "cell_type": "code",
   "execution_count": 98,
   "metadata": {},
   "outputs": [],
   "source": [
    "rev_seqs = activity['name'][activity['name'].str.contains('Reversed')]"
   ]
  },
  {
   "cell_type": "code",
   "execution_count": 99,
   "metadata": {},
   "outputs": [
    {
     "data": {
      "text/plain": [
       "112599"
      ]
     },
     "execution_count": 99,
     "metadata": {},
     "output_type": "execute_result"
    }
   ],
   "source": [
    "rev_seqs.shape[0]"
   ]
  },
  {
   "cell_type": "markdown",
   "metadata": {},
   "source": [
    "Get their corresponding forward seqnames."
   ]
  },
  {
   "cell_type": "code",
   "execution_count": 100,
   "metadata": {},
   "outputs": [],
   "source": [
    "fwd_seqs = rev_seqs.str.strip('_Reversed')"
   ]
  },
  {
   "cell_type": "markdown",
   "metadata": {},
   "source": [
    "Do all of these have activity data?"
   ]
  },
  {
   "cell_type": "code",
   "execution_count": 101,
   "metadata": {},
   "outputs": [
    {
     "data": {
      "text/plain": [
       "False"
      ]
     },
     "execution_count": 101,
     "metadata": {},
     "output_type": "execute_result"
    }
   ],
   "source": [
    "fwd_seqs.isin(activity['name']).all()"
   ]
  },
  {
   "cell_type": "markdown",
   "metadata": {},
   "source": [
    "Record the complementary fwd seqs with activity data."
   ]
  },
  {
   "cell_type": "code",
   "execution_count": 102,
   "metadata": {},
   "outputs": [
    {
     "data": {
      "text/plain": [
       "(109156,)"
      ]
     },
     "execution_count": 102,
     "metadata": {},
     "output_type": "execute_result"
    }
   ],
   "source": [
    "comp_fwd_seqs = fwd_seqs[fwd_seqs.isin(activity['name'])]\n",
    "comp_fwd_seqs.shape"
   ]
  },
  {
   "cell_type": "markdown",
   "metadata": {},
   "source": [
    "Which of the seqs in `rev_seqs` have a complementary fwd seq with activity data?"
   ]
  },
  {
   "cell_type": "code",
   "execution_count": 103,
   "metadata": {},
   "outputs": [],
   "source": [
    "rev_seqs_with_fwd = rev_seqs[fwd_seqs.isin(comp_fwd_seqs)]"
   ]
  },
  {
   "cell_type": "code",
   "execution_count": 105,
   "metadata": {},
   "outputs": [
    {
     "data": {
      "text/plain": [
       "(109156,)"
      ]
     },
     "execution_count": 105,
     "metadata": {},
     "output_type": "execute_result"
    }
   ],
   "source": [
    "rev_seqs_with_fwd.shape"
   ]
  },
  {
   "cell_type": "code",
   "execution_count": 106,
   "metadata": {},
   "outputs": [],
   "source": [
    "# sanity checks\n",
    "assert(rev_seqs_with_fwd.str.strip('_Reversed').isin(comp_fwd_seqs).all())\n",
    "assert(rev_seqs_with_fwd.shape[0] == comp_fwd_seqs.shape[0])"
   ]
  },
  {
   "cell_type": "markdown",
   "metadata": {},
   "source": [
    "Create a mapper for fwd/rev seqs with activity data."
   ]
  },
  {
   "cell_type": "code",
   "execution_count": 107,
   "metadata": {},
   "outputs": [],
   "source": [
    "fwd_rev_dict = dict(zip(comp_fwd_seqs, rev_seqs_with_fwd))"
   ]
  },
  {
   "cell_type": "markdown",
   "metadata": {},
   "source": [
    "What are the remaining sequences that aren't part of a fwd/rev pair? "
   ]
  },
  {
   "cell_type": "code",
   "execution_count": 108,
   "metadata": {},
   "outputs": [
    {
     "data": {
      "text/plain": [
       "7393"
      ]
     },
     "execution_count": 108,
     "metadata": {},
     "output_type": "execute_result"
    }
   ],
   "source": [
    "# expected amount\n",
    "activity.shape[0] - rev_seqs_with_fwd.shape[0] - comp_fwd_seqs.shape[0]"
   ]
  },
  {
   "cell_type": "code",
   "execution_count": 109,
   "metadata": {},
   "outputs": [],
   "source": [
    "# get logical mask for selecting remaining seqs\n",
    "mask = (~activity['name'].isin(comp_fwd_seqs)) & (~activity['name'].isin(rev_seqs_with_fwd))"
   ]
  },
  {
   "cell_type": "code",
   "execution_count": 110,
   "metadata": {},
   "outputs": [],
   "source": [
    "# sanity check\n",
    "assert(mask.sum()==activity.shape[0] - rev_seqs_with_fwd.shape[0] - comp_fwd_seqs.shape[0])"
   ]
  },
  {
   "cell_type": "code",
   "execution_count": 111,
   "metadata": {},
   "outputs": [],
   "source": [
    "# filter seqs\n",
    "other_seqs = activity['name'][mask]"
   ]
  },
  {
   "cell_type": "code",
   "execution_count": 112,
   "metadata": {},
   "outputs": [],
   "source": [
    "# sanity checks\n",
    "assert(other_seqs.isin(activity['name']).all())\n",
    "assert((other_seqs.shape[0] + rev_seqs_with_fwd.shape[0] + comp_fwd_seqs.shape[0]) == activity.shape[0])"
   ]
  },
  {
   "cell_type": "markdown",
   "metadata": {},
   "source": [
    "Summarise the data visually"
   ]
  },
  {
   "cell_type": "code",
   "execution_count": 115,
   "metadata": {},
   "outputs": [
    {
     "data": {
      "text/plain": [
       "<Axes: >"
      ]
     },
     "execution_count": 115,
     "metadata": {},
     "output_type": "execute_result"
    },
    {
     "data": {
      "image/png": "[encoded data removed]",
      "text/plain": [
       "<Figure size 640x480 with 1 Axes>"
      ]
     },
     "metadata": {},
     "output_type": "display_data"
    }
   ],
   "source": [
    "pd.DataFrame.from_dict({'fwd/rev pair':comp_fwd_seqs.shape[0]*2, 'other':other_seqs.shape[0]},\n",
    "                       orient='index').T.plot.barh(stacked=True, legend=True)"
   ]
  },
  {
   "cell_type": "markdown",
   "metadata": {},
   "source": [
    "Turn `seqs` into a dict that maps the name to the sequence."
   ]
  },
  {
   "cell_type": "code",
   "execution_count": 116,
   "metadata": {},
   "outputs": [],
   "source": [
    "seq_mapper = dict(zip(seqs['name'], seqs.iloc[:,-1]))"
   ]
  },
  {
   "cell_type": "markdown",
   "metadata": {},
   "source": [
    "Create a dict that maps seqnames to mean and std. activity"
   ]
  },
  {
   "cell_type": "code",
   "execution_count": 117,
   "metadata": {},
   "outputs": [],
   "source": [
    "activity_mapper = dict(zip(activity['name'], activity['mean']))\n",
    "std_mapper = dict(zip(activity['name'], activity['std']))\n"
   ]
  },
  {
   "cell_type": "markdown",
   "metadata": {},
   "source": [
    "## Come up with train/test/val splits\n",
    "80/10/10"
   ]
  },
  {
   "cell_type": "markdown",
   "metadata": {},
   "source": [
    "### Train"
   ]
  },
  {
   "cell_type": "code",
   "execution_count": 118,
   "metadata": {},
   "outputs": [],
   "source": [
    "# get fwd/rev pairs in train set\n",
    "train_fwd_seqnames_ix = np.random.choice(np.arange(comp_fwd_seqs.shape[0]), round(comp_fwd_seqs.shape[0]*0.8), replace=False)\n",
    "train_fwd_seqnames = comp_fwd_seqs.iloc[train_fwd_seqnames_ix].tolist()\n",
    "train_rev_seqnames = [fwd_rev_dict[x] for x in train_fwd_seqnames]"
   ]
  },
  {
   "cell_type": "code",
   "execution_count": 119,
   "metadata": {},
   "outputs": [],
   "source": [
    "# get other seqs in train set\n",
    "train_other_seqnames_ix = np.random.choice(np.arange(other_seqs.shape[0]), round(other_seqs.shape[0]*0.8), replace=False)\n",
    "train_other_seqnames = other_seqs.iloc[train_other_seqnames_ix].tolist()"
   ]
  },
  {
   "cell_type": "code",
   "execution_count": 120,
   "metadata": {},
   "outputs": [
    {
     "data": {
      "text/plain": [
       "180564"
      ]
     },
     "execution_count": 120,
     "metadata": {},
     "output_type": "execute_result"
    }
   ],
   "source": [
    "# total train seqs\n",
    "len(train_rev_seqnames) + len(train_fwd_seqnames) + len(train_other_seqnames)"
   ]
  },
  {
   "cell_type": "code",
   "execution_count": 121,
   "metadata": {},
   "outputs": [],
   "source": [
    "# combine all train seqnames into a list\n",
    "all_train_seqnames = train_fwd_seqnames + train_rev_seqnames + train_other_seqnames"
   ]
  },
  {
   "cell_type": "markdown",
   "metadata": {},
   "source": [
    "Get numpy arrays representing `X_train` and `y_train`"
   ]
  },
  {
   "cell_type": "code",
   "execution_count": 124,
   "metadata": {},
   "outputs": [],
   "source": [
    "X_train = np.array([one_hot_encode(seq_mapper[x]) for x in all_train_seqnames])\n",
    "y_train = np.array([[activity_mapper[x], std_mapper[x]] for x in all_train_seqnames])"
   ]
  },
  {
   "cell_type": "markdown",
   "metadata": {},
   "source": [
    "### Test"
   ]
  },
  {
   "cell_type": "code",
   "execution_count": 126,
   "metadata": {},
   "outputs": [],
   "source": [
    "# ix to pick from\n",
    "test_fwd_options = np.setdiff1d(np.arange(comp_fwd_seqs.shape[0]), train_fwd_seqnames_ix)"
   ]
  },
  {
   "cell_type": "code",
   "execution_count": 127,
   "metadata": {},
   "outputs": [],
   "source": [
    "test_fwd_seqnames_ix = np.random.choice(test_fwd_options, round(comp_fwd_seqs.shape[0]*0.1), replace=False)\n",
    "test_fwd_seqnames = comp_fwd_seqs.iloc[test_fwd_seqnames_ix].tolist()\n",
    "test_rev_seqnames = [fwd_rev_dict[x] for x in test_fwd_seqnames]"
   ]
  },
  {
   "cell_type": "code",
   "execution_count": 128,
   "metadata": {},
   "outputs": [],
   "source": [
    "# ix to pick from\n",
    "test_other_options = np.setdiff1d(np.arange(other_seqs.shape[0]), train_other_seqnames_ix)"
   ]
  },
  {
   "cell_type": "code",
   "execution_count": 129,
   "metadata": {},
   "outputs": [],
   "source": [
    "# get other seqs in test set\n",
    "test_other_seqnames_ix = np.random.choice(test_other_options, round(other_seqs.shape[0]*0.1), replace=False)\n",
    "test_other_seqnames = other_seqs.iloc[test_other_seqnames_ix].tolist()"
   ]
  },
  {
   "cell_type": "code",
   "execution_count": 130,
   "metadata": {},
   "outputs": [
    {
     "data": {
      "text/plain": [
       "22571"
      ]
     },
     "execution_count": 130,
     "metadata": {},
     "output_type": "execute_result"
    }
   ],
   "source": [
    "# combine all test seqnames in a list\n",
    "all_test_seqnames = test_fwd_seqnames + test_rev_seqnames + test_other_seqnames\n",
    "\n",
    "# how many seqs total?\n",
    "len(all_test_seqnames)"
   ]
  },
  {
   "cell_type": "markdown",
   "metadata": {},
   "source": [
    "Get numpy arrays representing `X_test` and `y_test`"
   ]
  },
  {
   "cell_type": "code",
   "execution_count": 131,
   "metadata": {},
   "outputs": [],
   "source": [
    "X_test = np.array([one_hot_encode(seq_mapper[x]) for x in all_test_seqnames])\n",
    "y_test = np.array([[activity_mapper[x], std_mapper[x]] for x in all_test_seqnames])"
   ]
  },
  {
   "cell_type": "markdown",
   "metadata": {},
   "source": [
    "### Val"
   ]
  },
  {
   "cell_type": "code",
   "execution_count": 133,
   "metadata": {},
   "outputs": [],
   "source": [
    "# pick fwd/rev seqs\n",
    "val_fwd_seqnames_ix = np.setdiff1d(test_fwd_options, test_fwd_seqnames_ix)\n",
    "val_fwd_seqnames = comp_fwd_seqs.iloc[val_fwd_seqnames_ix].tolist()\n",
    "val_rev_seqnames = [fwd_rev_dict[x] for x in val_fwd_seqnames]"
   ]
  },
  {
   "cell_type": "code",
   "execution_count": 134,
   "metadata": {},
   "outputs": [],
   "source": [
    "# pick other seqs \n",
    "val_other_seqnames_ix = np.setdiff1d(test_other_options, test_other_seqnames_ix)\n",
    "val_other_seqnames = other_seqs.iloc[val_other_seqnames_ix].tolist()"
   ]
  },
  {
   "cell_type": "code",
   "execution_count": 135,
   "metadata": {},
   "outputs": [
    {
     "data": {
      "text/plain": [
       "22570"
      ]
     },
     "execution_count": 135,
     "metadata": {},
     "output_type": "execute_result"
    }
   ],
   "source": [
    "# combine all test seqnames in a list\n",
    "all_val_seqnames = val_fwd_seqnames + val_rev_seqnames + val_other_seqnames\n",
    "\n",
    "# how many seqs total?\n",
    "len(all_val_seqnames)"
   ]
  },
  {
   "cell_type": "code",
   "execution_count": 136,
   "metadata": {},
   "outputs": [],
   "source": [
    "# sanity check - make sure all seqs in activity dataframe are accounted for\n",
    "assert(len(set(all_train_seqnames + all_test_seqnames + all_val_seqnames)) == activity.shape[0])\n"
   ]
  },
  {
   "cell_type": "markdown",
   "metadata": {},
   "source": [
    "Get numpy arrays for `X_val` and `y_val`"
   ]
  },
  {
   "cell_type": "code",
   "execution_count": 137,
   "metadata": {},
   "outputs": [],
   "source": [
    "X_val = np.array([one_hot_encode(seq_mapper[x]) for x in all_val_seqnames])\n",
    "y_val = np.array([[activity_mapper[x], std_mapper[x]] for x in all_val_seqnames])"
   ]
  },
  {
   "cell_type": "markdown",
   "metadata": {},
   "source": [
    "## Write data to h5 file"
   ]
  },
  {
   "cell_type": "code",
   "execution_count": 142,
   "metadata": {},
   "outputs": [],
   "source": [
    "with h5py.File(f\"{data_dir}/{celltype}_data_with_aleatoric.h5\", 'w') as file:\n",
    "    # train\n",
    "    train = file.create_group(\"Train\")\n",
    "    train.create_dataset('X', data=X_train)\n",
    "    train.create_dataset('y', data=y_train)\n",
    "\n",
    "    # test \n",
    "    test = file.create_group('Test')\n",
    "    test.create_dataset('X', data=X_test)\n",
    "    test.create_dataset('y', data=y_test)\n",
    "\n",
    "    # val\n",
    "    val = file.create_group('Val')\n",
    "    val.create_dataset('X', data = X_val)\n",
    "    val.create_dataset('y', data=y_val)\n"
   ]
  },
  {
   "cell_type": "markdown",
   "metadata": {},
   "source": [
    "# Some code for loading in the data..."
   ]
  },
  {
   "cell_type": "code",
   "execution_count": 5,
   "metadata": {},
   "outputs": [],
   "source": [
    "def load_lentimpra(h5_file):\n",
    "    data = h5py.File(h5_file, 'r')\n",
    "\n",
    "    # train\n",
    "    X_train = np.array(data['Train']['X'])\n",
    "    y_train = np.array(data['Train']['y'])\n",
    "\n",
    "    # test\n",
    "    X_test = np.array(data['Test']['X'])\n",
    "    y_test = np.array(data['Test']['y'])\n",
    "\n",
    "    # val\n",
    "    X_val = np.array(data['Val']['X'])\n",
    "    y_val = np.array(data['Val']['y'])\n",
    "\n",
    "    return X_train, y_train, X_test, y_test, X_val, y_val"
   ]
  },
  {
   "cell_type": "code",
   "execution_count": 6,
   "metadata": {},
   "outputs": [],
   "source": [
    "X_train, y_train, X_test, y_test, X_val, y_val = load_lentimpra('../data/lentiMPRA/HepG2_data_with_aleatoric.h5')"
   ]
  },
  {
   "cell_type": "code",
   "execution_count": 9,
   "metadata": {},
   "outputs": [],
   "source": [
    "assert(y_train.shape[-1]==2 & y_test.shape[-1]==2 & y_val.shape[-1]==2)"
   ]
  },
  {
   "cell_type": "code",
   "execution_count": null,
   "metadata": {},
   "outputs": [],
   "source": []
  }
 ],
 "metadata": {
  "kernelspec": {
   "display_name": "tf2",
   "language": "python",
   "name": "python3"
  },
  "language_info": {
   "codemirror_mode": {
    "name": "ipython",
    "version": 3
   },
   "file_extension": ".py",
   "mimetype": "text/x-python",
   "name": "python",
   "nbconvert_exporter": "python",
   "pygments_lexer": "ipython3",
   "version": "3.9.18"
  }
 },
 "nbformat": 4,
 "nbformat_minor": 2
}
